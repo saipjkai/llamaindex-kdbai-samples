{
 "cells": [
  {
   "cell_type": "markdown",
   "id": "8cf2dc70-dfaa-4152-bcd1-627283853a49",
   "metadata": {},
   "source": [
    "# RAG using LlamaIndex and KDB.AI vector store"
   ]
  },
  {
   "cell_type": "markdown",
   "id": "c25c8f45-3012-4016-b278-148989644822",
   "metadata": {},
   "source": [
    "## Install dependencies"
   ]
  },
  {
   "cell_type": "code",
   "execution_count": 1,
   "id": "3bed0217-29c5-421d-82a4-934f358d7043",
   "metadata": {
    "scrolled": true
   },
   "outputs": [],
   "source": [
    "# !pip install llama-index llama-index-embeddings-huggingface llama-index-llms-openai llama-index-readers-file llama-index-vector-stores-kdbai\n",
    "# !pip install kdbai_client pandas wikipedia tqdm"
   ]
  },
  {
   "cell_type": "markdown",
   "id": "fb0d4fd1-4c5a-49c0-a551-089c7bec8c60",
   "metadata": {},
   "source": [
    "## Download data"
   ]
  },
  {
   "cell_type": "markdown",
   "id": "90ac3ded-1509-4564-99fe-4dc5f3400a35",
   "metadata": {},
   "source": [
    "**Libraries**"
   ]
  },
  {
   "cell_type": "code",
   "execution_count": 2,
   "id": "e4d27330-9bb7-4c48-a25b-52bc3d6840a8",
   "metadata": {},
   "outputs": [],
   "source": [
    "import os\n",
    "from tqdm import tqdm\n",
    "import wikipedia\n",
    "import urllib.request\n",
    "import pandas as pd"
   ]
  },
  {
   "cell_type": "markdown",
   "id": "85eed897-07aa-4e90-81db-11d40e16109f",
   "metadata": {},
   "source": [
    "**Data directories and paths**"
   ]
  },
  {
   "cell_type": "code",
   "execution_count": 3,
   "id": "fd664ca4-47a2-4aaf-9f95-ea79ee56214e",
   "metadata": {},
   "outputs": [],
   "source": [
    "# Root path\n",
    "root_path = os.path.abspath(os.getcwd())\n",
    "\n",
    "# Data directory and path\n",
    "data_dir = \"data\"\n",
    "data_path = os.path.join(root_data_path, data_dir)\n",
    "if not os.path.exists(data_path):\n",
    "    os.mkdir(data_path)"
   ]
  },
  {
   "cell_type": "markdown",
   "id": "0f647913-132e-4639-bb38-4bd6c5571dfa",
   "metadata": {},
   "source": [
    "**Downloading data**"
   ]
  },
  {
   "cell_type": "code",
   "execution_count": 4,
   "id": "1862c904-c7cf-44d2-924b-15cbecc86546",
   "metadata": {},
   "outputs": [],
   "source": [
    "def download_data(WIKI_TITLES):\n",
    "    text_metadata = dict()\n",
    "    \n",
    "    # Download data - text and images from wiki pages\n",
    "    for title in tqdm(WIKI_TITLES):\n",
    "        print(title)\n",
    "        try:\n",
    "            wiki_page = wikipedia.page(title)\n",
    "\n",
    "            # Text - data and metadata\n",
    "            page_content = wiki_page.content\n",
    "            text_file_name = f\"{title}.txt\"\n",
    "            content_path = os.path.join(data_path, f\"{title}.txt\")\n",
    "            with open(content_path, 'w') as f:\n",
    "                f.write(page_content)\n",
    "\n",
    "            text_metadata[f\"{root_data_dir}/{data_dir}/{title}.txt\"] = {\n",
    "                \"title\": title,\n",
    "                \"publication_date\": pd.to_datetime(\"2024-07-23\")\n",
    "            }\n",
    "    \n",
    "        except Exception:\n",
    "            print(str(Exception(\"No images found for Wikipedia page: \")) + title)\n",
    "            continue\n",
    "\n",
    "    return text_metadata"
   ]
  },
  {
   "cell_type": "code",
   "execution_count": 5,
   "id": "75d145b0-28bd-402a-8e2b-4894f74e854c",
   "metadata": {},
   "outputs": [
    {
     "name": "stderr",
     "output_type": "stream",
     "text": [
      "  0%|                                                     | 0/2 [00:00<?, ?it/s]"
     ]
    },
    {
     "name": "stdout",
     "output_type": "stream",
     "text": [
      "Beethoven\n"
     ]
    },
    {
     "name": "stderr",
     "output_type": "stream",
     "text": [
      " 50%|██████████████████████▌                      | 1/2 [00:03<00:03,  3.74s/it]"
     ]
    },
    {
     "name": "stdout",
     "output_type": "stream",
     "text": [
      "Video Game\n"
     ]
    },
    {
     "name": "stderr",
     "output_type": "stream",
     "text": [
      "100%|█████████████████████████████████████████████| 2/2 [00:06<00:00,  3.23s/it]\n"
     ]
    }
   ],
   "source": [
    "# Wikipedia titles to retrieve data\n",
    "WIKI_TITLES = [\n",
    "    \"Beethoven\",\n",
    "    \"Video Game\"\n",
    "]\n",
    "\n",
    "text_metadata = download_data(WIKI_TITLES)"
   ]
  },
  {
   "cell_type": "markdown",
   "id": "203cde90-3c88-4f7f-ae38-0f4092405478",
   "metadata": {},
   "source": [
    "**Show texts**"
   ]
  },
  {
   "cell_type": "code",
   "execution_count": 6,
   "id": "5f3eacfe-6bcc-4d02-a282-9c13260dc350",
   "metadata": {},
   "outputs": [],
   "source": [
    "# Helper function - to display downloaded texts\n",
    "def show_texts(text_paths):\n",
    "    texts_shown = 0\n",
    "    for text_path in text_paths:\n",
    "        with open(text_path, 'r') as text_file:\n",
    "            text_content = text_file.read()\n",
    "        print(text_content[0:512])\n",
    "        print(\"=\"*80)\n",
    "\n",
    "        texts_shown += 1\n",
    "        if texts_shown >=3:\n",
    "            break"
   ]
  },
  {
   "cell_type": "code",
   "execution_count": 7,
   "id": "fdaaf4dd-8eda-4b99-a07a-d7cf5fe4c58c",
   "metadata": {},
   "outputs": [
    {
     "name": "stdout",
     "output_type": "stream",
     "text": [
      "Ludwig van Beethoven (baptised 17 December 1770 – 26 March 1827) was a German composer and pianist. He is one of the most revered figures in the history of Western music; his works rank among the most performed of the classical music repertoire and span the transition from the Classical period to the Romantic era in classical music. His early period, during which he forged his craft, is typically considered to have lasted until 1802. From 1802 to around 1812, his middle period showed an individual developme\n",
      "================================================================================\n",
      "A video game or computer game is an electronic game that involves interaction with a user interface or input device (such as a joystick, controller, keyboard, or motion sensing device) to generate visual feedback from a display device, most commonly shown in a video format on a television set, computer monitor, flat-panel display or touchscreen on handheld devices, or a virtual reality headset. Most modern video games are audiovisual, with audio complement delivered through speakers or headphones, and somet\n",
      "================================================================================\n"
     ]
    }
   ],
   "source": [
    "text_paths = []\n",
    "for text_path in text_metadata:\n",
    "    text_paths.append(text_path)\n",
    "show_texts(text_paths)"
   ]
  },
  {
   "cell_type": "markdown",
   "id": "f6824bf4-2de4-456b-b9eb-4448543f268c",
   "metadata": {},
   "source": [
    "## KDB.AI session and table"
   ]
  },
  {
   "cell_type": "markdown",
   "id": "807cfa75-76f6-492a-8190-6600032c0bdc",
   "metadata": {},
   "source": [
    "**Libraries**"
   ]
  },
  {
   "cell_type": "code",
   "execution_count": 8,
   "id": "e9ce4067-dd16-44a0-be8c-53d766e3ddc7",
   "metadata": {},
   "outputs": [],
   "source": [
    "import kdbai_client as kdbai"
   ]
  },
  {
   "cell_type": "markdown",
   "id": "dc6bfcec-2967-41cd-9a00-bcf87eebd500",
   "metadata": {},
   "source": [
    "**KDB.ai session**"
   ]
  },
  {
   "cell_type": "code",
   "execution_count": 9,
   "id": "ef0d1c2b-6ad6-442a-964c-31c4f2c27d75",
   "metadata": {},
   "outputs": [],
   "source": [
    "# KDB.ai session\n",
    "KDBAI_ENDPOINT = \"http://localhost:8085\"\n",
    "session = kdbai.Session(endpoint=KDBAI_ENDPOINT)"
   ]
  },
  {
   "cell_type": "markdown",
   "id": "bcd06c22-e721-4862-a131-66e19c36050e",
   "metadata": {},
   "source": [
    "**KDBai table**"
   ]
  },
  {
   "cell_type": "code",
   "execution_count": 10,
   "id": "855c956e-a319-44aa-8042-3e7d08abb47c",
   "metadata": {},
   "outputs": [],
   "source": [
    "# Table name and schema\n",
    "table_name = \"rag_docs\"\n",
    "table_schema = dict(\n",
    "    columns=[\n",
    "        dict(name=\"document_id\", pytype=\"bytes\"),\n",
    "        dict(name=\"text\", pytype=\"bytes\"),\n",
    "        dict(\n",
    "            name=\"embedding\",\n",
    "            vectorIndex=dict(type=\"flat\", metric=\"L2\", dims=768),\n",
    "        ),\n",
    "        dict(name=\"title\", pytype=\"bytes\"),\n",
    "        dict(name=\"publication_date\", pytype=\"datetime64[ns]\")\n",
    "    ]\n",
    ")"
   ]
  },
  {
   "cell_type": "code",
   "execution_count": 11,
   "id": "57f357b2-2524-4304-a0b0-295c0935e658",
   "metadata": {},
   "outputs": [],
   "source": [
    "# Delete the table if exists\n",
    "if table_name in session.list():\n",
    "    session.table(table_name).drop()"
   ]
  },
  {
   "cell_type": "code",
   "execution_count": 12,
   "id": "bbea6bc0-b8fc-409f-901f-67db8cb113f3",
   "metadata": {},
   "outputs": [],
   "source": [
    "# Create KDB.ai table with table name and schema\n",
    "table = session.create_table(table_name, table_schema)"
   ]
  },
  {
   "cell_type": "code",
   "execution_count": 13,
   "id": "6677ed5d-64d2-4172-ab7b-78d34ea07e8b",
   "metadata": {},
   "outputs": [
    {
     "data": {
      "text/plain": [
       "{'columns': [{'name': 'document_id', 'qtype': 'string', 'pytype': 'bytes'},\n",
       "  {'name': 'text', 'qtype': 'string', 'pytype': 'bytes'},\n",
       "  {'name': 'embedding',\n",
       "   'vectorIndex': {'type': 'flat', 'metric': 'L2', 'dims': 768},\n",
       "   'qtype': 'reals',\n",
       "   'pytype': 'float32'},\n",
       "  {'name': 'title', 'qtype': 'string', 'pytype': 'bytes'},\n",
       "  {'name': 'publication_date',\n",
       "   'qtype': 'timestamp',\n",
       "   'pytype': 'datetime64[ns]'}]}"
      ]
     },
     "execution_count": 13,
     "metadata": {},
     "output_type": "execute_result"
    }
   ],
   "source": [
    "# Show table schema\n",
    "table.schema()"
   ]
  },
  {
   "cell_type": "markdown",
   "id": "6588d431-4d75-4e26-af64-8dae14cf6c5e",
   "metadata": {},
   "source": [
    "## Load local PDF files with LlamaIndex"
   ]
  },
  {
   "cell_type": "markdown",
   "id": "a834eb21-94ab-4a19-a58b-162e9c2385c7",
   "metadata": {},
   "source": [
    "**Input file paths**"
   ]
  },
  {
   "cell_type": "code",
   "execution_count": 14,
   "id": "e4c52c60-5da6-4ca7-aa95-acb229d9e49c",
   "metadata": {},
   "outputs": [
    {
     "data": {
      "text/plain": [
       "['data/rag_data/Beethoven.txt', 'data/rag_data/Video Game.txt']"
      ]
     },
     "execution_count": 14,
     "metadata": {},
     "output_type": "execute_result"
    }
   ],
   "source": [
    "local_files = [input_file for input_file in text_metadata]\n",
    "local_files"
   ]
  },
  {
   "cell_type": "markdown",
   "id": "7cb9d911-3cfb-4887-807b-5bbbb3400a7a",
   "metadata": {},
   "source": [
    "**Loading data**"
   ]
  },
  {
   "cell_type": "code",
   "execution_count": 15,
   "id": "acde98ca-7ff8-4a85-ba6e-ceb49c32b290",
   "metadata": {},
   "outputs": [],
   "source": [
    "from llama_index.core import SimpleDirectoryReader"
   ]
  },
  {
   "cell_type": "code",
   "execution_count": 16,
   "id": "332508f1-6f1f-4f98-8820-001621f05032",
   "metadata": {},
   "outputs": [],
   "source": [
    "# Helper function - for getting metadata\n",
    "def get_metadata(filepath):\n",
    "    return text_metadata[filepath]"
   ]
  },
  {
   "cell_type": "code",
   "execution_count": 17,
   "id": "53334b19-0c5b-400a-96c7-96e943c72a9d",
   "metadata": {},
   "outputs": [
    {
     "name": "stdout",
     "output_type": "stream",
     "text": [
      "CPU times: user 6.78 ms, sys: 7.74 ms, total: 14.5 ms\n",
      "Wall time: 14.1 ms\n"
     ]
    },
    {
     "data": {
      "text/plain": [
       "2"
      ]
     },
     "execution_count": 17,
     "metadata": {},
     "output_type": "execute_result"
    }
   ],
   "source": [
    "%%time\n",
    "\n",
    "documents = SimpleDirectoryReader(input_files=local_files, file_metadata=get_metadata)\n",
    "\n",
    "docs = documents.load_data()\n",
    "len(docs)"
   ]
  },
  {
   "cell_type": "markdown",
   "id": "0c44405b-1e0a-42d7-b8b5-ad76408b5814",
   "metadata": {},
   "source": [
    "## Setup LlamaIndex RAG pipeline using KDB.ai vector store"
   ]
  },
  {
   "cell_type": "markdown",
   "id": "5166221f-aa09-4ff7-976c-0a1372fd2e6d",
   "metadata": {},
   "source": [
    "**OpenAI API Key**"
   ]
  },
  {
   "cell_type": "code",
   "execution_count": 18,
   "id": "f47aab9f-8c40-485a-bbd2-4b914aa7d10f",
   "metadata": {},
   "outputs": [],
   "source": [
    "from getpass import getpass"
   ]
  },
  {
   "cell_type": "code",
   "execution_count": 19,
   "id": "733db16e-bfb2-42ba-9630-b207bee21b1c",
   "metadata": {},
   "outputs": [
    {
     "name": "stdin",
     "output_type": "stream",
     "text": [
      "OpenAI API key:  ········\n"
     ]
    }
   ],
   "source": [
    "os.environ[\"OPENAI_API_KEY\"] = getpass(\"OpenAI API key: \")"
   ]
  },
  {
   "cell_type": "markdown",
   "id": "359ec9f6-7f0f-472d-b5a3-f5152d10fcc1",
   "metadata": {},
   "source": [
    "**Text embeddings model**"
   ]
  },
  {
   "cell_type": "code",
   "execution_count": 20,
   "id": "92b97c2c-9cab-4639-88fd-62c26d08a24e",
   "metadata": {},
   "outputs": [],
   "source": [
    "from llama_index.embeddings.huggingface import HuggingFaceEmbedding"
   ]
  },
  {
   "cell_type": "code",
   "execution_count": 21,
   "id": "f746ca7c-9346-48c0-956b-a9a76593393b",
   "metadata": {},
   "outputs": [],
   "source": [
    "EMBEDDING = \"sentence-transformers/all-mpnet-base-v2\"\n",
    "embeddings_model = HuggingFaceEmbedding(model_name=EMBEDDING)"
   ]
  },
  {
   "cell_type": "markdown",
   "id": "7e3b2998-7941-4d39-b1a9-2aadd0f9d7cd",
   "metadata": {},
   "source": [
    "**LLM model**"
   ]
  },
  {
   "cell_type": "code",
   "execution_count": 22,
   "id": "dc891952-8fae-4175-a7cc-64d29ec8ae05",
   "metadata": {},
   "outputs": [],
   "source": [
    "from llama_index.llms.openai import OpenAI"
   ]
  },
  {
   "cell_type": "code",
   "execution_count": 23,
   "id": "ccbb72bf-ef4e-4be7-80db-065056d4160b",
   "metadata": {},
   "outputs": [],
   "source": [
    "LLM = \"gpt-3.5-turbo\"\n",
    "llm_model = OpenAI(temperature=0, model=LLM)"
   ]
  },
  {
   "cell_type": "markdown",
   "id": "52c9348a-df29-4d73-83cc-910a2b1eee8d",
   "metadata": {},
   "source": [
    "**Setting up LlamaIndex RAG pipeline**"
   ]
  },
  {
   "cell_type": "code",
   "execution_count": 24,
   "id": "740fbd1f-74b2-4cce-b67a-5f85f7c11a78",
   "metadata": {},
   "outputs": [],
   "source": [
    "from llama_index.vector_stores.kdbai import KDBAIVectorStore\n",
    "\n",
    "from llama_index.core import Settings\n",
    "from llama_index.core import StorageContext\n",
    "from llama_index.core import VectorStoreIndex\n",
    "\n",
    "from llama_index.core.node_parser import SentenceSplitter"
   ]
  },
  {
   "cell_type": "code",
   "execution_count": 25,
   "id": "c1a43764-6401-4f17-8e15-b87466f718db",
   "metadata": {},
   "outputs": [
    {
     "name": "stdout",
     "output_type": "stream",
     "text": [
      "CPU times: user 5.06 s, sys: 120 ms, total: 5.18 s\n",
      "Wall time: 5.83 s\n"
     ]
    }
   ],
   "source": [
    "%%time\n",
    "\n",
    "# KDBAI vector store\n",
    "vector_store = KDBAIVectorStore(table)\n",
    "\n",
    "# LlamaIndex settings\n",
    "Settings.embed_model = embeddings_model\n",
    "Settings.llm = llm_model\n",
    "\n",
    "# storage context\n",
    "storage_context = StorageContext.from_defaults(vector_store=vector_store)\n",
    "\n",
    "# vector store index\n",
    "index = VectorStoreIndex.from_documents(\n",
    "    docs,\n",
    "    storage_context=storage_context,\n",
    "    transformations=[SentenceSplitter(chunk_size=512, chunk_overlap=0)],\n",
    ")"
   ]
  },
  {
   "cell_type": "markdown",
   "id": "15566d2a-bb55-4bf9-b37f-70a77ab2062d",
   "metadata": {},
   "source": [
    "## Setup the LlamaIndex Query Engine"
   ]
  },
  {
   "cell_type": "markdown",
   "id": "de011263-9a38-4b37-9282-b2bb6877319c",
   "metadata": {},
   "source": [
    "**Setting up Query Engine**"
   ]
  },
  {
   "cell_type": "code",
   "execution_count": 26,
   "id": "52a97023-9b6c-439e-8311-260b5f3e9266",
   "metadata": {},
   "outputs": [
    {
     "name": "stdout",
     "output_type": "stream",
     "text": [
      "CPU times: user 1.42 ms, sys: 165 μs, total: 1.58 ms\n",
      "Wall time: 4.98 ms\n"
     ]
    }
   ],
   "source": [
    "%%time\n",
    "\n",
    "K = 5\n",
    "query_engine = index.as_query_engine(llm=llm_model, similarity_top_k=K)"
   ]
  },
  {
   "cell_type": "markdown",
   "id": "6ea86377-6b56-4d63-a4bc-d0434f0b063e",
   "metadata": {},
   "source": [
    "**Querying**"
   ]
  },
  {
   "cell_type": "code",
   "execution_count": 27,
   "id": "998e1c66-c554-4404-b3d9-06de05a895e7",
   "metadata": {},
   "outputs": [
    {
     "name": "stdout",
     "output_type": "stream",
     "text": [
      "Important fields in Computer Science include software development, artificial intelligence, data science, cybersecurity, computer networking, database management, computer graphics, human-computer interaction, and theoretical computer science.\n",
      "CPU times: user 143 ms, sys: 4.5 ms, total: 147 ms\n",
      "Wall time: 1.83 s\n"
     ]
    }
   ],
   "source": [
    "%%time\n",
    "\n",
    "result = query_engine.query(\"\"\"Tell me important fields in Computer Science ?\"\"\")\n",
    "print(result.response)"
   ]
  },
  {
   "cell_type": "code",
   "execution_count": 28,
   "id": "214285a9-929d-4988-969e-4916e6724093",
   "metadata": {},
   "outputs": [
    {
     "name": "stdout",
     "output_type": "stream",
     "text": [
      "Some of the most famous works by Beethoven include his Symphony No. 3 (Eroica), Symphony No. 5, Symphony No. 9 (Choral), Piano Sonata No. 14 (Moonlight Sonata), Piano Sonata No. 8 (Pathetique), and his Violin Concerto in D major.\n",
      "CPU times: user 54.9 ms, sys: 384 μs, total: 55.3 ms\n",
      "Wall time: 1.78 s\n"
     ]
    }
   ],
   "source": [
    "%%time\n",
    "\n",
    "result = query_engine.query(\"\"\"What are the most famous works by Beethoven ?\"\"\")\n",
    "print(result.response)"
   ]
  },
  {
   "cell_type": "code",
   "execution_count": null,
   "id": "bfb47296-f27a-44a7-bfae-9a5a4033e647",
   "metadata": {},
   "outputs": [],
   "source": []
  }
 ],
 "metadata": {
  "kernelspec": {
   "display_name": "Python 3 (ipykernel)",
   "language": "python",
   "name": "python3"
  },
  "language_info": {
   "codemirror_mode": {
    "name": "ipython",
    "version": 3
   },
   "file_extension": ".py",
   "mimetype": "text/x-python",
   "name": "python",
   "nbconvert_exporter": "python",
   "pygments_lexer": "ipython3",
   "version": "3.10.6"
  }
 },
 "nbformat": 4,
 "nbformat_minor": 5
}
