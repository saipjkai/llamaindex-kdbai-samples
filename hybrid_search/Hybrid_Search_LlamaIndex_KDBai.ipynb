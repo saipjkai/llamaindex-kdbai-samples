{
 "cells": [
  {
   "cell_type": "markdown",
   "id": "36bda246-f167-4114-a5d1-a053d8bb6faa",
   "metadata": {},
   "source": [
    "# Hybrid Search with LlamaIndex & KDB.ai"
   ]
  },
  {
   "cell_type": "markdown",
   "id": "6db1388d-fb91-4445-bda3-9ce1ba230e2a",
   "metadata": {},
   "source": [
    "## Install dependencies"
   ]
  },
  {
   "cell_type": "code",
   "execution_count": 1,
   "id": "cc0fded7-4a7b-42bd-8b89-c350e3c616ff",
   "metadata": {},
   "outputs": [],
   "source": [
    "# !pip install llama-index llama-index-embeddings-huggingface llama-index-llms-openai llama-index-readers-file llama-index-vector-stores-kdbai\n",
    "# !pip install kdbai_client langchain-text-splitters pandas"
   ]
  },
  {
   "cell_type": "markdown",
   "id": "0f5a20b9-8d2a-4986-b72c-38743ffea15e",
   "metadata": {},
   "source": [
    "## Downloading data"
   ]
  },
  {
   "cell_type": "markdown",
   "id": "4b149b4c-8be7-451c-943a-60a919f3a1fd",
   "metadata": {},
   "source": [
    "**Libraries**"
   ]
  },
  {
   "cell_type": "code",
   "execution_count": 2,
   "id": "2fee394b-9ed8-4f48-96e0-68fed3181a68",
   "metadata": {},
   "outputs": [],
   "source": [
    "import os\n",
    "import urllib.request"
   ]
  },
  {
   "cell_type": "markdown",
   "id": "e15527fd-ad03-4ebb-9622-1bbd0beec9c7",
   "metadata": {},
   "source": [
    "**Data directories and paths**"
   ]
  },
  {
   "cell_type": "code",
   "execution_count": 3,
   "id": "974ceca4-7c46-4185-b9b9-0ed5da7eca7f",
   "metadata": {},
   "outputs": [],
   "source": [
    "# Root path\n",
    "root_path = os.path.abspath(os.getcwd())\n",
    "\n",
    "# Data directory and path\n",
    "data_dir = \"data\"\n",
    "data_path = os.path.join(root_path, data_dir)\n",
    "if not os.path.exists(data_path):\n",
    "    os.mkdir(data_path)"
   ]
  },
  {
   "cell_type": "markdown",
   "id": "aecef7f4-0633-41e7-8600-2d894705564b",
   "metadata": {},
   "source": [
    "**Downloading text**"
   ]
  },
  {
   "cell_type": "code",
   "execution_count": 4,
   "id": "516e1f6d-d06e-40c5-bdb3-77e2cdce2cff",
   "metadata": {},
   "outputs": [],
   "source": [
    "text_url = \"https://raw.githubusercontent.com/KxSystems/kdbai-samples/main/hybrid_search/data/inflation.txt\"\n",
    "with urllib.request.urlopen(text_url) as response:\n",
    "    text_content = response.read().decode(\"utf-8\")\n",
    "\n",
    "text_file_name = text_url.split('/')[-1]\n",
    "text_path = os.path.join(data_path, text_file_name)\n",
    "if not os.path.exists(text_path):\n",
    "    with open(text_path, 'w') as text_file:\n",
    "        text_file.write(text_content)\n",
    "\n",
    "metadata = {\n",
    "    f\"{data_dir}/{text_file_name}\": {\n",
    "        \"title\": text_file_name,\n",
    "        \"file_path\": text_path\n",
    "    }\n",
    "}"
   ]
  },
  {
   "cell_type": "markdown",
   "id": "f718c60d-b577-4e4d-a256-42747173568b",
   "metadata": {},
   "source": [
    "**Show text data**"
   ]
  },
  {
   "cell_type": "code",
   "execution_count": 5,
   "id": "20948a9b-7b95-4ccd-87b4-5fa1c0eecc8b",
   "metadata": {},
   "outputs": [],
   "source": [
    "def show_text(text_path):\n",
    "    with open(text_path, 'r') as text_file:\n",
    "        contents = text_file.read()\n",
    "    print(contents[:500])\n",
    "    print(\"=\"*80)"
   ]
  },
  {
   "cell_type": "code",
   "execution_count": 6,
   "id": "deea78d6-acc8-4819-b948-a6d5d00c04e2",
   "metadata": {},
   "outputs": [
    {
     "name": "stdout",
     "output_type": "stream",
     "text": [
      " At last year's Jackson Hole symposium, I delivered a brief, direct message. My remarks this year will be a bit longer, but the message is the same: It is the Fed's job to bring inflation down to our 2 percent goal, and we will do so. We have tightened policy significantly over the past year. Although inflation has moved down from its peak—a welcome development—it remains too high. We are prepared to raise rates further if appropriate, and intend to hold policy at a restrictive level until we ar\n",
      "================================================================================\n"
     ]
    }
   ],
   "source": [
    "show_text(text_path)"
   ]
  },
  {
   "cell_type": "markdown",
   "id": "720a9744-a9d4-4691-9077-229e1c526522",
   "metadata": {},
   "source": [
    "## KDB.ai Vector Database - session and table"
   ]
  },
  {
   "cell_type": "markdown",
   "id": "9ee3143e-69b8-4182-bdd8-4aa4c471517d",
   "metadata": {},
   "source": [
    "**Libraries**"
   ]
  },
  {
   "cell_type": "code",
   "execution_count": 7,
   "id": "e536e1f9-67a6-409b-85e0-70aa89b9c26e",
   "metadata": {},
   "outputs": [],
   "source": [
    "import kdbai_client as kdbai "
   ]
  },
  {
   "cell_type": "markdown",
   "id": "ae5d76e2-a62b-4b4e-904c-7408bcd0274f",
   "metadata": {},
   "source": [
    "**KDB.ai session**"
   ]
  },
  {
   "cell_type": "code",
   "execution_count": 8,
   "id": "940990b1-32b7-4ba4-8c8c-fc6c0ca0a372",
   "metadata": {},
   "outputs": [],
   "source": [
    "KDBAI_ENDPOINT = \"http://localhost:8085\"\n",
    "session = kdbai.Session(endpoint=KDBAI_ENDPOINT)"
   ]
  },
  {
   "cell_type": "markdown",
   "id": "9f843740-08a5-4379-9b9a-9ac2f554cad0",
   "metadata": {},
   "source": [
    "**KDB.ai table**"
   ]
  },
  {
   "cell_type": "code",
   "execution_count": 9,
   "id": "7949d844-6991-4a4f-9ebc-09d0c9e4d4f9",
   "metadata": {},
   "outputs": [],
   "source": [
    "# Table - name & schema\n",
    "table_name = \"hs_docs\"\n",
    "table_schema = {\n",
    "    \"columns\": [\n",
    "        dict(name=\"document_id\", pytype=\"bytes\"),\n",
    "        dict(name=\"text\", pytype=\"bytes\"),\n",
    "        dict(\n",
    "            name=\"embedding\",\n",
    "            pytypte=\"float32\",\n",
    "            vectorIndex=dict(type=\"flat\", metric=\"L2\", dims=768)\n",
    "        ),\n",
    "        dict(\n",
    "            name=\"sparseVectors\",\n",
    "            pytype=\"dict\",\n",
    "            sparseIndex=dict(k=1.25, b=0.75)\n",
    "        ),\n",
    "        dict(name=\"title\", pytype=\"str\"),\n",
    "        dict(name=\"file_path\", pytype=\"str\")\n",
    "    ]\n",
    "}"
   ]
  },
  {
   "cell_type": "code",
   "execution_count": 10,
   "id": "89681936-0a1c-4976-b8eb-8fc63df0cd1b",
   "metadata": {},
   "outputs": [],
   "source": [
    "# Drop table if exists\n",
    "if table_name in session.list():\n",
    "    session.table(table_name).drop()"
   ]
  },
  {
   "cell_type": "code",
   "execution_count": 11,
   "id": "72fa4f5d-e24e-4a7d-be8f-863d955c5f25",
   "metadata": {},
   "outputs": [],
   "source": [
    "# Texts table\n",
    "table = session.create_table(table_name, table_schema)"
   ]
  },
  {
   "cell_type": "code",
   "execution_count": 12,
   "id": "116a1449-b360-4edc-aca7-8335f9eb771e",
   "metadata": {},
   "outputs": [
    {
     "data": {
      "text/plain": [
       "{'columns': [{'name': 'document_id', 'qtype': 'string', 'pytype': 'bytes'},\n",
       "  {'name': 'text', 'qtype': 'string', 'pytype': 'bytes'},\n",
       "  {'name': 'embedding',\n",
       "   'vectorIndex': {'type': 'flat', 'metric': 'L2', 'dims': 768},\n",
       "   'qtype': 'reals',\n",
       "   'pytype': 'float32'},\n",
       "  {'name': 'sparseVectors',\n",
       "   'sparseIndex': {'k': 1.25, 'b': 0.75},\n",
       "   'qtype': '',\n",
       "   'pytype': 'dict'},\n",
       "  {'name': 'title', 'qtype': 'symbol', 'pytype': 'str'},\n",
       "  {'name': 'file_path', 'qtype': 'symbol', 'pytype': 'str'}]}"
      ]
     },
     "execution_count": 12,
     "metadata": {},
     "output_type": "execute_result"
    }
   ],
   "source": [
    "# Table schema\n",
    "table.schema()"
   ]
  },
  {
   "cell_type": "markdown",
   "id": "51b64e18-57e0-43a5-84ee-9076a9695673",
   "metadata": {},
   "source": [
    "## Loading data"
   ]
  },
  {
   "cell_type": "markdown",
   "id": "a188416f-2eca-42d5-bf7b-8175edd0758e",
   "metadata": {},
   "source": [
    "**Libraries**"
   ]
  },
  {
   "cell_type": "code",
   "execution_count": 13,
   "id": "7bd02e51-52f3-489a-a466-73f1c417e064",
   "metadata": {},
   "outputs": [],
   "source": [
    "# Using Langchain recursive character text splitter for generating text chunks\n",
    "from langchain_text_splitters import RecursiveCharacterTextSplitter\n",
    "from llama_index.core import Document"
   ]
  },
  {
   "cell_type": "markdown",
   "id": "82be4f92-df74-4eac-9707-8b4763b153b0",
   "metadata": {},
   "source": [
    "**Loading data: texts and metadata**"
   ]
  },
  {
   "cell_type": "code",
   "execution_count": 14,
   "id": "348920d3-7e94-4b48-b883-838529bbb24d",
   "metadata": {},
   "outputs": [],
   "source": [
    "text_splitter = RecursiveCharacterTextSplitter(\n",
    "    chunk_size=500,\n",
    "    chunk_overlap=0,\n",
    ")"
   ]
  },
  {
   "cell_type": "code",
   "execution_count": 15,
   "id": "4fd8bb3b-774c-487a-8c75-132850051178",
   "metadata": {},
   "outputs": [],
   "source": [
    "docs = []\n",
    "for fpath, fmetadata in metadata.items():\n",
    "    with open(fpath, 'r') as f:\n",
    "        fcontent = f.read()\n",
    "\n",
    "    texts = text_splitter.create_documents([fcontent])\n",
    "\n",
    "    for text in texts: \n",
    "        doc = Document(\n",
    "            text=text.page_content,\n",
    "            metadata={\n",
    "                \"title\": fmetadata['title'],\n",
    "                \"file_path\": fmetadata['file_path']\n",
    "            }\n",
    "        )\n",
    "        docs.append(doc)"
   ]
  },
  {
   "cell_type": "markdown",
   "id": "bb55c9c8-8b6b-4b32-b1b7-6dd0dbbd3687",
   "metadata": {},
   "source": [
    "## Creating Vector Store Index for data"
   ]
  },
  {
   "cell_type": "markdown",
   "id": "57c5eb99-8113-40ee-bc5e-5ee7ae8d19db",
   "metadata": {},
   "source": [
    "**Text embeddings model**"
   ]
  },
  {
   "cell_type": "code",
   "execution_count": 16,
   "id": "05aad112-7ffb-4e63-9990-503f2d95b7c8",
   "metadata": {},
   "outputs": [],
   "source": [
    "from llama_index.embeddings.huggingface import HuggingFaceEmbedding"
   ]
  },
  {
   "cell_type": "code",
   "execution_count": 17,
   "id": "0f6b2caa-a7f8-481a-9210-7900695c4e3a",
   "metadata": {},
   "outputs": [
    {
     "name": "stderr",
     "output_type": "stream",
     "text": [
      "/home/tempest/.pyenv/versions/3.10.6/envs/llamaindex_kdbai/lib/python3.10/site-packages/torch/cuda/__init__.py:141: UserWarning: CUDA initialization: CUDA unknown error - this may be due to an incorrectly set up environment, e.g. changing env variable CUDA_VISIBLE_DEVICES after program start. Setting the available devices to be zero. (Triggered internally at ../c10/cuda/CUDAFunctions.cpp:108.)\n",
      "  return torch._C._cuda_getDeviceCount() > 0\n"
     ]
    }
   ],
   "source": [
    "EMBEDDING = \"sentence-transformers/all-mpnet-base-v2\"\n",
    "embeddings_model = HuggingFaceEmbedding(model_name=EMBEDDING)"
   ]
  },
  {
   "cell_type": "markdown",
   "id": "64c988c2-c33b-40a9-830a-3decb5c2d911",
   "metadata": {},
   "source": [
    "**Create vector store, storage context and the index for retrieval, query purposes**"
   ]
  },
  {
   "cell_type": "code",
   "execution_count": 18,
   "id": "c5e8e1fb-9db4-4edd-a60a-889817b9f3fe",
   "metadata": {},
   "outputs": [],
   "source": [
    "from llama_index.vector_stores.kdbai import KDBAIVectorStore\n",
    "from llama_index.core import StorageContext\n",
    "from llama_index.core import Settings\n",
    "from llama_index.core.indices import VectorStoreIndex"
   ]
  },
  {
   "cell_type": "code",
   "execution_count": 19,
   "id": "4ea2dcca-6f3d-4232-9294-8ad5061f3520",
   "metadata": {
    "scrolled": true
   },
   "outputs": [
    {
     "name": "stdout",
     "output_type": "stream",
     "text": [
      "LLM is explicitly disabled. Using MockLLM.\n",
      "CPU times: user 35.7 s, sys: 509 ms, total: 36.3 s\n",
      "Wall time: 24.7 s\n"
     ]
    }
   ],
   "source": [
    "%%time\n",
    "\n",
    "# Vector Store\n",
    "text_store = KDBAIVectorStore(table=table, hybrid_search=True)\n",
    "\n",
    "# Storage context\n",
    "storage_context = StorageContext.from_defaults(\n",
    "    vector_store=text_store, \n",
    ")\n",
    "\n",
    "# Settings\n",
    "Settings.embed_model = embeddings_model\n",
    "Settings.llm = None\n",
    "\n",
    "# Vector Store Index\n",
    "index = VectorStoreIndex.from_documents(\n",
    "    docs,\n",
    "    storage_context=storage_context,\n",
    ")"
   ]
  },
  {
   "cell_type": "markdown",
   "id": "fe013a42-6b5a-416c-bc87-30b0ebe02e9a",
   "metadata": {},
   "source": [
    "## Retrieval from query using Hybrid Search "
   ]
  },
  {
   "cell_type": "markdown",
   "id": "c30441b4-3fd6-45b3-86cd-a50ab4101d0b",
   "metadata": {},
   "source": [
    "**Query**"
   ]
  },
  {
   "cell_type": "code",
   "execution_count": 20,
   "id": "d7dd1230-c0d5-4c07-a4e9-23537ccb6373",
   "metadata": {},
   "outputs": [],
   "source": [
    "query = '12-month basis'"
   ]
  },
  {
   "cell_type": "markdown",
   "id": "38f5eb97-b6dd-4b36-a1c0-67b5e6a4f525",
   "metadata": {},
   "source": [
    "**Helper function: To display search results**"
   ]
  },
  {
   "cell_type": "code",
   "execution_count": 21,
   "id": "ef30aa91-3ea2-44f5-9043-53b99dc701a5",
   "metadata": {},
   "outputs": [],
   "source": [
    "import pandas as pd"
   ]
  },
  {
   "cell_type": "code",
   "execution_count": 22,
   "id": "80d572c8-409e-4869-a04d-f6fa9b510a3f",
   "metadata": {},
   "outputs": [],
   "source": [
    "def display_search_results(nodes):\n",
    "    nodes_df = pd.DataFrame(columns=['score', 'text'])\n",
    "    for node in nodes:\n",
    "        nodes_df.loc[len(nodes_df.index)] = (node.score, node.text)\n",
    "    return nodes_df"
   ]
  },
  {
   "cell_type": "markdown",
   "id": "87740e80-6285-4228-8c4a-2037c4cc233c",
   "metadata": {},
   "source": [
    "**Hybrid Search: Giving equal priority to both sparse and dense vector search ($\\alpha=0.5$)**"
   ]
  },
  {
   "cell_type": "code",
   "execution_count": 23,
   "id": "a28e06f9-f848-4a87-8107-0425b5bd4c4f",
   "metadata": {},
   "outputs": [
    {
     "name": "stdout",
     "output_type": "stream",
     "text": [
      "CPU times: user 35 μs, sys: 1 μs, total: 36 μs\n",
      "Wall time: 39.6 μs\n"
     ]
    }
   ],
   "source": [
    "%%time\n",
    "\n",
    "retriever = index.as_retriever(similarity_top_k=5, vector_store_query_mode=\"hybrid\")"
   ]
  },
  {
   "cell_type": "code",
   "execution_count": 24,
   "id": "40ab98b9-31e2-4d8b-94a7-8973c05f8e91",
   "metadata": {},
   "outputs": [
    {
     "data": {
      "text/html": [
       "<div>\n",
       "<style scoped>\n",
       "    .dataframe tbody tr th:only-of-type {\n",
       "        vertical-align: middle;\n",
       "    }\n",
       "\n",
       "    .dataframe tbody tr th {\n",
       "        vertical-align: top;\n",
       "    }\n",
       "\n",
       "    .dataframe thead th {\n",
       "        text-align: right;\n",
       "    }\n",
       "</style>\n",
       "<table border=\"1\" class=\"dataframe\">\n",
       "  <thead>\n",
       "    <tr style=\"text-align: right;\">\n",
       "      <th></th>\n",
       "      <th>score</th>\n",
       "      <th>text</th>\n",
       "    </tr>\n",
       "  </thead>\n",
       "  <tbody>\n",
       "    <tr>\n",
       "      <th>0</th>\n",
       "      <td>0.250000</td>\n",
       "      <td>Total hours worked has been flat over the past...</td>\n",
       "    </tr>\n",
       "    <tr>\n",
       "      <th>1</th>\n",
       "      <td>0.166667</td>\n",
       "      <td>coming quarters. Twelve-month core inflation i...</td>\n",
       "    </tr>\n",
       "    <tr>\n",
       "      <th>2</th>\n",
       "      <td>0.125000</td>\n",
       "      <td>Today I will review our progress so far and di...</td>\n",
       "    </tr>\n",
       "    <tr>\n",
       "      <th>3</th>\n",
       "      <td>0.100000</td>\n",
       "      <td>The final category, nonhousing services, accou...</td>\n",
       "    </tr>\n",
       "    <tr>\n",
       "      <th>4</th>\n",
       "      <td>0.083333</td>\n",
       "      <td>Measured housing services inflation lagged the...</td>\n",
       "    </tr>\n",
       "  </tbody>\n",
       "</table>\n",
       "</div>"
      ],
      "text/plain": [
       "      score                                               text\n",
       "0  0.250000  Total hours worked has been flat over the past...\n",
       "1  0.166667  coming quarters. Twelve-month core inflation i...\n",
       "2  0.125000  Today I will review our progress so far and di...\n",
       "3  0.100000  The final category, nonhousing services, accou...\n",
       "4  0.083333  Measured housing services inflation lagged the..."
      ]
     },
     "execution_count": 24,
     "metadata": {},
     "output_type": "execute_result"
    }
   ],
   "source": [
    "equal_priority_nodes = retriever.retrieve(query)\n",
    "display_search_results(equal_priority_nodes)"
   ]
  },
  {
   "cell_type": "markdown",
   "id": "7d065aa5-c685-4c4d-a808-e28913c1cfdc",
   "metadata": {},
   "source": [
    "**Hybrid Search: Giving more priority to sparse vector search ($\\alpha=0.1$)**"
   ]
  },
  {
   "cell_type": "code",
   "execution_count": 25,
   "id": "0f5b7356-8dae-40f3-b787-cb34d6b58045",
   "metadata": {},
   "outputs": [
    {
     "name": "stdout",
     "output_type": "stream",
     "text": [
      "CPU times: user 33 μs, sys: 1 μs, total: 34 μs\n",
      "Wall time: 37 μs\n"
     ]
    }
   ],
   "source": [
    "%%time\n",
    "\n",
    "retriever = index.as_retriever(similarity_top_k=5, vector_store_query_mode=\"hybrid\", alpha=0.1)"
   ]
  },
  {
   "cell_type": "code",
   "execution_count": 26,
   "id": "ecfd0feb-3752-461b-b23b-05a81abe49c9",
   "metadata": {},
   "outputs": [
    {
     "data": {
      "text/html": [
       "<div>\n",
       "<style scoped>\n",
       "    .dataframe tbody tr th:only-of-type {\n",
       "        vertical-align: middle;\n",
       "    }\n",
       "\n",
       "    .dataframe tbody tr th {\n",
       "        vertical-align: top;\n",
       "    }\n",
       "\n",
       "    .dataframe thead th {\n",
       "        text-align: right;\n",
       "    }\n",
       "</style>\n",
       "<table border=\"1\" class=\"dataframe\">\n",
       "  <thead>\n",
       "    <tr style=\"text-align: right;\">\n",
       "      <th></th>\n",
       "      <th>score</th>\n",
       "      <th>text</th>\n",
       "    </tr>\n",
       "  </thead>\n",
       "  <tbody>\n",
       "    <tr>\n",
       "      <th>0</th>\n",
       "      <td>0.050000</td>\n",
       "      <td>Total hours worked has been flat over the past...</td>\n",
       "    </tr>\n",
       "    <tr>\n",
       "      <th>1</th>\n",
       "      <td>0.033333</td>\n",
       "      <td>coming quarters. Twelve-month core inflation i...</td>\n",
       "    </tr>\n",
       "    <tr>\n",
       "      <th>2</th>\n",
       "      <td>0.025000</td>\n",
       "      <td>Today I will review our progress so far and di...</td>\n",
       "    </tr>\n",
       "    <tr>\n",
       "      <th>3</th>\n",
       "      <td>0.020000</td>\n",
       "      <td>The final category, nonhousing services, accou...</td>\n",
       "    </tr>\n",
       "    <tr>\n",
       "      <th>4</th>\n",
       "      <td>0.016667</td>\n",
       "      <td>Measured housing services inflation lagged the...</td>\n",
       "    </tr>\n",
       "  </tbody>\n",
       "</table>\n",
       "</div>"
      ],
      "text/plain": [
       "      score                                               text\n",
       "0  0.050000  Total hours worked has been flat over the past...\n",
       "1  0.033333  coming quarters. Twelve-month core inflation i...\n",
       "2  0.025000  Today I will review our progress so far and di...\n",
       "3  0.020000  The final category, nonhousing services, accou...\n",
       "4  0.016667  Measured housing services inflation lagged the..."
      ]
     },
     "execution_count": 26,
     "metadata": {},
     "output_type": "execute_result"
    }
   ],
   "source": [
    "sparse_priority_nodes = retriever.retrieve(query)\n",
    "display_search_results(sparse_priority_nodes)"
   ]
  },
  {
   "cell_type": "markdown",
   "id": "f62f9812-6242-47ae-9a1a-b582bc04f54b",
   "metadata": {},
   "source": [
    "**Hybrid Search: Giving more priority to dense vector search ($\\alpha=0.9$)**"
   ]
  },
  {
   "cell_type": "code",
   "execution_count": 27,
   "id": "70583f73-a841-45fd-9169-461ca6b4953a",
   "metadata": {},
   "outputs": [
    {
     "name": "stdout",
     "output_type": "stream",
     "text": [
      "CPU times: user 33 μs, sys: 1e+03 ns, total: 34 μs\n",
      "Wall time: 37 μs\n"
     ]
    }
   ],
   "source": [
    "%%time\n",
    "\n",
    "retriever = index.as_retriever(similarity_top_k=5, vector_store_query_mode=\"hybrid\", alpha=0.90)"
   ]
  },
  {
   "cell_type": "code",
   "execution_count": 28,
   "id": "ac810657-ba83-4f53-91e5-3a3407afa31e",
   "metadata": {},
   "outputs": [
    {
     "data": {
      "text/html": [
       "<div>\n",
       "<style scoped>\n",
       "    .dataframe tbody tr th:only-of-type {\n",
       "        vertical-align: middle;\n",
       "    }\n",
       "\n",
       "    .dataframe tbody tr th {\n",
       "        vertical-align: top;\n",
       "    }\n",
       "\n",
       "    .dataframe thead th {\n",
       "        text-align: right;\n",
       "    }\n",
       "</style>\n",
       "<table border=\"1\" class=\"dataframe\">\n",
       "  <thead>\n",
       "    <tr style=\"text-align: right;\">\n",
       "      <th></th>\n",
       "      <th>score</th>\n",
       "      <th>text</th>\n",
       "    </tr>\n",
       "  </thead>\n",
       "  <tbody>\n",
       "    <tr>\n",
       "      <th>0</th>\n",
       "      <td>0.450</td>\n",
       "      <td>Total hours worked has been flat over the past...</td>\n",
       "    </tr>\n",
       "    <tr>\n",
       "      <th>1</th>\n",
       "      <td>0.300</td>\n",
       "      <td>coming quarters. Twelve-month core inflation i...</td>\n",
       "    </tr>\n",
       "    <tr>\n",
       "      <th>2</th>\n",
       "      <td>0.225</td>\n",
       "      <td>Today I will review our progress so far and di...</td>\n",
       "    </tr>\n",
       "    <tr>\n",
       "      <th>3</th>\n",
       "      <td>0.180</td>\n",
       "      <td>The final category, nonhousing services, accou...</td>\n",
       "    </tr>\n",
       "    <tr>\n",
       "      <th>4</th>\n",
       "      <td>0.150</td>\n",
       "      <td>Measured housing services inflation lagged the...</td>\n",
       "    </tr>\n",
       "  </tbody>\n",
       "</table>\n",
       "</div>"
      ],
      "text/plain": [
       "   score                                               text\n",
       "0  0.450  Total hours worked has been flat over the past...\n",
       "1  0.300  coming quarters. Twelve-month core inflation i...\n",
       "2  0.225  Today I will review our progress so far and di...\n",
       "3  0.180  The final category, nonhousing services, accou...\n",
       "4  0.150  Measured housing services inflation lagged the..."
      ]
     },
     "execution_count": 28,
     "metadata": {},
     "output_type": "execute_result"
    }
   ],
   "source": [
    "dense_priority_nodes = retriever.retrieve(query)\n",
    "display_search_results(dense_priority_nodes)"
   ]
  },
  {
   "cell_type": "markdown",
   "id": "f65513f0-97bc-409d-8140-5be63f2ebe2a",
   "metadata": {},
   "source": [
    "**Conclusion**\n",
    "- If the Hybrid Search is sparse search biased i.e $\\alpha=0.1$ then, from the results we can see the terms we are interested directly i.e \"12-month basis\" rather than terms having similar meanings.\n",
    "- In the Hybrid Search is dense search biased i.e $\\alpha=0.9$ then, from the results we can see the most related or similar text to the query."
   ]
  },
  {
   "cell_type": "code",
   "execution_count": null,
   "id": "78f7c5af-89f7-4fa9-9b5f-04d74d59e035",
   "metadata": {},
   "outputs": [],
   "source": []
  }
 ],
 "metadata": {
  "kernelspec": {
   "display_name": "Python 3 (ipykernel)",
   "language": "python",
   "name": "python3"
  },
  "language_info": {
   "codemirror_mode": {
    "name": "ipython",
    "version": 3
   },
   "file_extension": ".py",
   "mimetype": "text/x-python",
   "name": "python",
   "nbconvert_exporter": "python",
   "pygments_lexer": "ipython3",
   "version": "3.10.6"
  }
 },
 "nbformat": 4,
 "nbformat_minor": 5
}
