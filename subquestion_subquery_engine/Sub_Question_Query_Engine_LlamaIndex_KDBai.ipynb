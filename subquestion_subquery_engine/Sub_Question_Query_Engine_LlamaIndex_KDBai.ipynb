{
 "cells": [
  {
   "cell_type": "markdown",
   "id": "f134f72f-ba98-4eed-ac63-276c3057fa95",
   "metadata": {},
   "source": [
    "# Sub Question Query Engine - LlamaIndex + KDB.ai"
   ]
  },
  {
   "cell_type": "markdown",
   "id": "62d858ff-3397-44fc-b0c8-7136b7daba88",
   "metadata": {},
   "source": [
    "## Install requirements"
   ]
  },
  {
   "cell_type": "markdown",
   "id": "057f4e5e-72a3-4016-9621-6ac219d69f63",
   "metadata": {},
   "source": [
    "**Install required packages**"
   ]
  },
  {
   "cell_type": "code",
   "execution_count": 1,
   "id": "54070ca2-534a-4563-ace4-f90313c1de1d",
   "metadata": {
    "scrolled": true
   },
   "outputs": [
    {
     "name": "stdout",
     "output_type": "stream",
     "text": [
      "Requirement already satisfied: llama-index in /home/tempest/.pyenv/versions/3.10.6/envs/llamaindex_kdbai/lib/python3.10/site-packages (0.10.57)\n",
      "Requirement already satisfied: llama-index-embeddings-huggingface in /home/tempest/.pyenv/versions/3.10.6/envs/llamaindex_kdbai/lib/python3.10/site-packages (0.2.2)\n",
      "Requirement already satisfied: llama-index-llms-openai in /home/tempest/.pyenv/versions/3.10.6/envs/llamaindex_kdbai/lib/python3.10/site-packages (0.1.27)\n",
      "Requirement already satisfied: llama-index-readers-file in /home/tempest/.pyenv/versions/3.10.6/envs/llamaindex_kdbai/lib/python3.10/site-packages (0.1.30)\n",
      "Requirement already satisfied: llama-index-vector-stores-kdbai in /home/tempest/.pyenv/versions/3.10.6/envs/llamaindex_kdbai/lib/python3.10/site-packages (0.1.8)\n",
      "Requirement already satisfied: llama-index-legacy<0.10.0,>=0.9.48 in /home/tempest/.pyenv/versions/3.10.6/envs/llamaindex_kdbai/lib/python3.10/site-packages (from llama-index) (0.9.48)\n",
      "Requirement already satisfied: llama-index-multi-modal-llms-openai<0.2.0,>=0.1.3 in /home/tempest/.pyenv/versions/3.10.6/envs/llamaindex_kdbai/lib/python3.10/site-packages (from llama-index) (0.1.8)\n",
      "Requirement already satisfied: llama-index-agent-openai<0.3.0,>=0.1.4 in /home/tempest/.pyenv/versions/3.10.6/envs/llamaindex_kdbai/lib/python3.10/site-packages (from llama-index) (0.2.9)\n",
      "Requirement already satisfied: llama-index-readers-llama-parse>=0.1.2 in /home/tempest/.pyenv/versions/3.10.6/envs/llamaindex_kdbai/lib/python3.10/site-packages (from llama-index) (0.1.6)\n",
      "Requirement already satisfied: llama-index-indices-managed-llama-cloud>=0.2.0 in /home/tempest/.pyenv/versions/3.10.6/envs/llamaindex_kdbai/lib/python3.10/site-packages (from llama-index) (0.2.5)\n",
      "Requirement already satisfied: llama-index-core==0.10.57 in /home/tempest/.pyenv/versions/3.10.6/envs/llamaindex_kdbai/lib/python3.10/site-packages (from llama-index) (0.10.57)\n",
      "Requirement already satisfied: llama-index-embeddings-openai<0.2.0,>=0.1.5 in /home/tempest/.pyenv/versions/3.10.6/envs/llamaindex_kdbai/lib/python3.10/site-packages (from llama-index) (0.1.11)\n",
      "Requirement already satisfied: llama-index-program-openai<0.2.0,>=0.1.3 in /home/tempest/.pyenv/versions/3.10.6/envs/llamaindex_kdbai/lib/python3.10/site-packages (from llama-index) (0.1.7)\n",
      "Requirement already satisfied: llama-index-question-gen-openai<0.2.0,>=0.1.2 in /home/tempest/.pyenv/versions/3.10.6/envs/llamaindex_kdbai/lib/python3.10/site-packages (from llama-index) (0.1.3)\n",
      "Requirement already satisfied: llama-index-cli<0.2.0,>=0.1.2 in /home/tempest/.pyenv/versions/3.10.6/envs/llamaindex_kdbai/lib/python3.10/site-packages (from llama-index) (0.1.13)\n",
      "Requirement already satisfied: numpy<2.0.0 in /home/tempest/.pyenv/versions/3.10.6/envs/llamaindex_kdbai/lib/python3.10/site-packages (from llama-index-core==0.10.57->llama-index) (1.26.4)\n",
      "Requirement already satisfied: deprecated>=1.2.9.3 in /home/tempest/.pyenv/versions/3.10.6/envs/llamaindex_kdbai/lib/python3.10/site-packages (from llama-index-core==0.10.57->llama-index) (1.2.14)\n",
      "Requirement already satisfied: tiktoken>=0.3.3 in /home/tempest/.pyenv/versions/3.10.6/envs/llamaindex_kdbai/lib/python3.10/site-packages (from llama-index-core==0.10.57->llama-index) (0.7.0)\n",
      "Requirement already satisfied: SQLAlchemy[asyncio]>=1.4.49 in /home/tempest/.pyenv/versions/3.10.6/envs/llamaindex_kdbai/lib/python3.10/site-packages (from llama-index-core==0.10.57->llama-index) (2.0.31)\n",
      "Requirement already satisfied: nltk<4.0.0,>=3.8.1 in /home/tempest/.pyenv/versions/3.10.6/envs/llamaindex_kdbai/lib/python3.10/site-packages (from llama-index-core==0.10.57->llama-index) (3.8.1)\n",
      "Requirement already satisfied: tenacity!=8.4.0,<9.0.0,>=8.2.0 in /home/tempest/.pyenv/versions/3.10.6/envs/llamaindex_kdbai/lib/python3.10/site-packages (from llama-index-core==0.10.57->llama-index) (8.5.0)\n",
      "Requirement already satisfied: dirtyjson<2.0.0,>=1.0.8 in /home/tempest/.pyenv/versions/3.10.6/envs/llamaindex_kdbai/lib/python3.10/site-packages (from llama-index-core==0.10.57->llama-index) (1.0.8)\n",
      "Requirement already satisfied: typing-inspect>=0.8.0 in /home/tempest/.pyenv/versions/3.10.6/envs/llamaindex_kdbai/lib/python3.10/site-packages (from llama-index-core==0.10.57->llama-index) (0.9.0)\n",
      "Requirement already satisfied: wrapt in /home/tempest/.pyenv/versions/3.10.6/envs/llamaindex_kdbai/lib/python3.10/site-packages (from llama-index-core==0.10.57->llama-index) (1.16.0)\n",
      "Requirement already satisfied: pandas in /home/tempest/.pyenv/versions/3.10.6/envs/llamaindex_kdbai/lib/python3.10/site-packages (from llama-index-core==0.10.57->llama-index) (2.1.4)\n",
      "Requirement already satisfied: tqdm<5.0.0,>=4.66.1 in /home/tempest/.pyenv/versions/3.10.6/envs/llamaindex_kdbai/lib/python3.10/site-packages (from llama-index-core==0.10.57->llama-index) (4.66.4)\n",
      "Requirement already satisfied: pillow>=9.0.0 in /home/tempest/.pyenv/versions/3.10.6/envs/llamaindex_kdbai/lib/python3.10/site-packages (from llama-index-core==0.10.57->llama-index) (10.4.0)\n",
      "Requirement already satisfied: requests>=2.31.0 in /home/tempest/.pyenv/versions/3.10.6/envs/llamaindex_kdbai/lib/python3.10/site-packages (from llama-index-core==0.10.57->llama-index) (2.32.3)\n",
      "Requirement already satisfied: dataclasses-json in /home/tempest/.pyenv/versions/3.10.6/envs/llamaindex_kdbai/lib/python3.10/site-packages (from llama-index-core==0.10.57->llama-index) (0.6.7)\n",
      "Requirement already satisfied: httpx in /home/tempest/.pyenv/versions/3.10.6/envs/llamaindex_kdbai/lib/python3.10/site-packages (from llama-index-core==0.10.57->llama-index) (0.27.0)\n",
      "Requirement already satisfied: fsspec>=2023.5.0 in /home/tempest/.pyenv/versions/3.10.6/envs/llamaindex_kdbai/lib/python3.10/site-packages (from llama-index-core==0.10.57->llama-index) (2024.6.1)\n",
      "Requirement already satisfied: networkx>=3.0 in /home/tempest/.pyenv/versions/3.10.6/envs/llamaindex_kdbai/lib/python3.10/site-packages (from llama-index-core==0.10.57->llama-index) (3.3)\n",
      "Requirement already satisfied: aiohttp<4.0.0,>=3.8.6 in /home/tempest/.pyenv/versions/3.10.6/envs/llamaindex_kdbai/lib/python3.10/site-packages (from llama-index-core==0.10.57->llama-index) (3.9.5)\n",
      "Requirement already satisfied: nest-asyncio<2.0.0,>=1.5.8 in /home/tempest/.pyenv/versions/3.10.6/envs/llamaindex_kdbai/lib/python3.10/site-packages (from llama-index-core==0.10.57->llama-index) (1.6.0)\n",
      "Requirement already satisfied: typing-extensions>=4.5.0 in /home/tempest/.pyenv/versions/3.10.6/envs/llamaindex_kdbai/lib/python3.10/site-packages (from llama-index-core==0.10.57->llama-index) (4.12.2)\n",
      "Requirement already satisfied: openai>=1.1.0 in /home/tempest/.pyenv/versions/3.10.6/envs/llamaindex_kdbai/lib/python3.10/site-packages (from llama-index-core==0.10.57->llama-index) (1.37.0)\n",
      "Requirement already satisfied: PyYAML>=6.0.1 in /home/tempest/.pyenv/versions/3.10.6/envs/llamaindex_kdbai/lib/python3.10/site-packages (from llama-index-core==0.10.57->llama-index) (6.0.1)\n",
      "Requirement already satisfied: sentence-transformers>=2.6.1 in /home/tempest/.pyenv/versions/3.10.6/envs/llamaindex_kdbai/lib/python3.10/site-packages (from llama-index-embeddings-huggingface) (3.0.1)\n",
      "Requirement already satisfied: huggingface-hub[inference]>=0.19.0 in /home/tempest/.pyenv/versions/3.10.6/envs/llamaindex_kdbai/lib/python3.10/site-packages (from llama-index-embeddings-huggingface) (0.24.1)\n",
      "Requirement already satisfied: striprtf<0.0.27,>=0.0.26 in /home/tempest/.pyenv/versions/3.10.6/envs/llamaindex_kdbai/lib/python3.10/site-packages (from llama-index-readers-file) (0.0.26)\n",
      "Requirement already satisfied: pypdf<5.0.0,>=4.0.1 in /home/tempest/.pyenv/versions/3.10.6/envs/llamaindex_kdbai/lib/python3.10/site-packages (from llama-index-readers-file) (4.3.1)\n",
      "Requirement already satisfied: beautifulsoup4<5.0.0,>=4.12.3 in /home/tempest/.pyenv/versions/3.10.6/envs/llamaindex_kdbai/lib/python3.10/site-packages (from llama-index-readers-file) (4.12.3)\n",
      "Requirement already satisfied: kdbai-client>=1.1.0 in /home/tempest/.pyenv/versions/3.10.6/envs/llamaindex_kdbai/lib/python3.10/site-packages (from llama-index-vector-stores-kdbai) (1.1.0)\n",
      "Requirement already satisfied: pykx<3.0.0,>=2.1.1 in /home/tempest/.pyenv/versions/3.10.6/envs/llamaindex_kdbai/lib/python3.10/site-packages (from llama-index-vector-stores-kdbai) (2.5.2)\n",
      "Requirement already satisfied: soupsieve>1.2 in /home/tempest/.pyenv/versions/3.10.6/envs/llamaindex_kdbai/lib/python3.10/site-packages (from beautifulsoup4<5.0.0,>=4.12.3->llama-index-readers-file) (2.5)\n",
      "Requirement already satisfied: packaging>=20.9 in /home/tempest/.pyenv/versions/3.10.6/envs/llamaindex_kdbai/lib/python3.10/site-packages (from huggingface-hub[inference]>=0.19.0->llama-index-embeddings-huggingface) (24.1)\n",
      "Requirement already satisfied: filelock in /home/tempest/.pyenv/versions/3.10.6/envs/llamaindex_kdbai/lib/python3.10/site-packages (from huggingface-hub[inference]>=0.19.0->llama-index-embeddings-huggingface) (3.15.4)\n",
      "Requirement already satisfied: minijinja>=1.0 in /home/tempest/.pyenv/versions/3.10.6/envs/llamaindex_kdbai/lib/python3.10/site-packages (from huggingface-hub[inference]>=0.19.0->llama-index-embeddings-huggingface) (2.0.1)\n",
      "Requirement already satisfied: llama-cloud>=0.0.9 in /home/tempest/.pyenv/versions/3.10.6/envs/llamaindex_kdbai/lib/python3.10/site-packages (from llama-index-indices-managed-llama-cloud>=0.2.0->llama-index) (0.0.10)\n",
      "Requirement already satisfied: llama-parse>=0.4.0 in /home/tempest/.pyenv/versions/3.10.6/envs/llamaindex_kdbai/lib/python3.10/site-packages (from llama-index-readers-llama-parse>=0.1.2->llama-index) (0.4.9)\n",
      "Requirement already satisfied: pytz>=2022.1 in /home/tempest/.pyenv/versions/3.10.6/envs/llamaindex_kdbai/lib/python3.10/site-packages (from pykx<3.0.0,>=2.1.1->llama-index-vector-stores-kdbai) (2024.1)\n",
      "Requirement already satisfied: toml~=0.10.2 in /home/tempest/.pyenv/versions/3.10.6/envs/llamaindex_kdbai/lib/python3.10/site-packages (from pykx<3.0.0,>=2.1.1->llama-index-vector-stores-kdbai) (0.10.2)\n",
      "Requirement already satisfied: transformers<5.0.0,>=4.34.0 in /home/tempest/.pyenv/versions/3.10.6/envs/llamaindex_kdbai/lib/python3.10/site-packages (from sentence-transformers>=2.6.1->llama-index-embeddings-huggingface) (4.43.1)\n",
      "Requirement already satisfied: scikit-learn in /home/tempest/.pyenv/versions/3.10.6/envs/llamaindex_kdbai/lib/python3.10/site-packages (from sentence-transformers>=2.6.1->llama-index-embeddings-huggingface) (1.5.1)\n",
      "Requirement already satisfied: torch>=1.11.0 in /home/tempest/.pyenv/versions/3.10.6/envs/llamaindex_kdbai/lib/python3.10/site-packages (from sentence-transformers>=2.6.1->llama-index-embeddings-huggingface) (2.2.2)\n",
      "Requirement already satisfied: scipy in /home/tempest/.pyenv/versions/3.10.6/envs/llamaindex_kdbai/lib/python3.10/site-packages (from sentence-transformers>=2.6.1->llama-index-embeddings-huggingface) (1.14.0)\n",
      "Requirement already satisfied: multidict<7.0,>=4.5 in /home/tempest/.pyenv/versions/3.10.6/envs/llamaindex_kdbai/lib/python3.10/site-packages (from aiohttp<4.0.0,>=3.8.6->llama-index-core==0.10.57->llama-index) (6.0.5)\n",
      "Requirement already satisfied: attrs>=17.3.0 in /home/tempest/.pyenv/versions/3.10.6/envs/llamaindex_kdbai/lib/python3.10/site-packages (from aiohttp<4.0.0,>=3.8.6->llama-index-core==0.10.57->llama-index) (23.2.0)\n",
      "Requirement already satisfied: frozenlist>=1.1.1 in /home/tempest/.pyenv/versions/3.10.6/envs/llamaindex_kdbai/lib/python3.10/site-packages (from aiohttp<4.0.0,>=3.8.6->llama-index-core==0.10.57->llama-index) (1.4.1)\n",
      "Requirement already satisfied: yarl<2.0,>=1.0 in /home/tempest/.pyenv/versions/3.10.6/envs/llamaindex_kdbai/lib/python3.10/site-packages (from aiohttp<4.0.0,>=3.8.6->llama-index-core==0.10.57->llama-index) (1.9.4)\n",
      "Requirement already satisfied: aiosignal>=1.1.2 in /home/tempest/.pyenv/versions/3.10.6/envs/llamaindex_kdbai/lib/python3.10/site-packages (from aiohttp<4.0.0,>=3.8.6->llama-index-core==0.10.57->llama-index) (1.3.1)\n",
      "Requirement already satisfied: async-timeout<5.0,>=4.0 in /home/tempest/.pyenv/versions/3.10.6/envs/llamaindex_kdbai/lib/python3.10/site-packages (from aiohttp<4.0.0,>=3.8.6->llama-index-core==0.10.57->llama-index) (4.0.3)\n",
      "Requirement already satisfied: pydantic>=1.10 in /home/tempest/.pyenv/versions/3.10.6/envs/llamaindex_kdbai/lib/python3.10/site-packages (from llama-cloud>=0.0.9->llama-index-indices-managed-llama-cloud>=0.2.0->llama-index) (2.8.2)\n",
      "Requirement already satisfied: sniffio in /home/tempest/.pyenv/versions/3.10.6/envs/llamaindex_kdbai/lib/python3.10/site-packages (from httpx->llama-index-core==0.10.57->llama-index) (1.3.1)\n",
      "Requirement already satisfied: anyio in /home/tempest/.pyenv/versions/3.10.6/envs/llamaindex_kdbai/lib/python3.10/site-packages (from httpx->llama-index-core==0.10.57->llama-index) (4.4.0)\n",
      "Requirement already satisfied: certifi in /home/tempest/.pyenv/versions/3.10.6/envs/llamaindex_kdbai/lib/python3.10/site-packages (from httpx->llama-index-core==0.10.57->llama-index) (2024.7.4)\n",
      "Requirement already satisfied: idna in /home/tempest/.pyenv/versions/3.10.6/envs/llamaindex_kdbai/lib/python3.10/site-packages (from httpx->llama-index-core==0.10.57->llama-index) (3.7)\n",
      "Requirement already satisfied: httpcore==1.* in /home/tempest/.pyenv/versions/3.10.6/envs/llamaindex_kdbai/lib/python3.10/site-packages (from httpx->llama-index-core==0.10.57->llama-index) (1.0.5)\n",
      "Requirement already satisfied: h11<0.15,>=0.13 in /home/tempest/.pyenv/versions/3.10.6/envs/llamaindex_kdbai/lib/python3.10/site-packages (from httpcore==1.*->httpx->llama-index-core==0.10.57->llama-index) (0.14.0)\n",
      "Requirement already satisfied: click in /home/tempest/.pyenv/versions/3.10.6/envs/llamaindex_kdbai/lib/python3.10/site-packages (from nltk<4.0.0,>=3.8.1->llama-index-core==0.10.57->llama-index) (8.1.7)\n",
      "Requirement already satisfied: joblib in /home/tempest/.pyenv/versions/3.10.6/envs/llamaindex_kdbai/lib/python3.10/site-packages (from nltk<4.0.0,>=3.8.1->llama-index-core==0.10.57->llama-index) (1.4.2)\n",
      "Requirement already satisfied: regex>=2021.8.3 in /home/tempest/.pyenv/versions/3.10.6/envs/llamaindex_kdbai/lib/python3.10/site-packages (from nltk<4.0.0,>=3.8.1->llama-index-core==0.10.57->llama-index) (2024.5.15)\n",
      "Requirement already satisfied: distro<2,>=1.7.0 in /home/tempest/.pyenv/versions/3.10.6/envs/llamaindex_kdbai/lib/python3.10/site-packages (from openai>=1.1.0->llama-index-core==0.10.57->llama-index) (1.9.0)\n",
      "Requirement already satisfied: tzdata>=2022.1 in /home/tempest/.pyenv/versions/3.10.6/envs/llamaindex_kdbai/lib/python3.10/site-packages (from pandas->llama-index-core==0.10.57->llama-index) (2024.1)\n",
      "Requirement already satisfied: python-dateutil>=2.8.2 in /home/tempest/.pyenv/versions/3.10.6/envs/llamaindex_kdbai/lib/python3.10/site-packages (from pandas->llama-index-core==0.10.57->llama-index) (2.9.0.post0)\n",
      "Requirement already satisfied: charset-normalizer<4,>=2 in /home/tempest/.pyenv/versions/3.10.6/envs/llamaindex_kdbai/lib/python3.10/site-packages (from requests>=2.31.0->llama-index-core==0.10.57->llama-index) (3.3.2)\n",
      "Requirement already satisfied: urllib3<3,>=1.21.1 in /home/tempest/.pyenv/versions/3.10.6/envs/llamaindex_kdbai/lib/python3.10/site-packages (from requests>=2.31.0->llama-index-core==0.10.57->llama-index) (2.2.2)\n",
      "Requirement already satisfied: greenlet!=0.4.17 in /home/tempest/.pyenv/versions/3.10.6/envs/llamaindex_kdbai/lib/python3.10/site-packages (from SQLAlchemy[asyncio]>=1.4.49->llama-index-core==0.10.57->llama-index) (3.0.3)\n",
      "Requirement already satisfied: nvidia-cuda-cupti-cu12==12.1.105 in /home/tempest/.pyenv/versions/3.10.6/envs/llamaindex_kdbai/lib/python3.10/site-packages (from torch>=1.11.0->sentence-transformers>=2.6.1->llama-index-embeddings-huggingface) (12.1.105)\n",
      "Requirement already satisfied: nvidia-cudnn-cu12==8.9.2.26 in /home/tempest/.pyenv/versions/3.10.6/envs/llamaindex_kdbai/lib/python3.10/site-packages (from torch>=1.11.0->sentence-transformers>=2.6.1->llama-index-embeddings-huggingface) (8.9.2.26)\n",
      "Requirement already satisfied: nvidia-cuda-runtime-cu12==12.1.105 in /home/tempest/.pyenv/versions/3.10.6/envs/llamaindex_kdbai/lib/python3.10/site-packages (from torch>=1.11.0->sentence-transformers>=2.6.1->llama-index-embeddings-huggingface) (12.1.105)\n",
      "Requirement already satisfied: nvidia-cusolver-cu12==11.4.5.107 in /home/tempest/.pyenv/versions/3.10.6/envs/llamaindex_kdbai/lib/python3.10/site-packages (from torch>=1.11.0->sentence-transformers>=2.6.1->llama-index-embeddings-huggingface) (11.4.5.107)\n",
      "Requirement already satisfied: nvidia-cublas-cu12==12.1.3.1 in /home/tempest/.pyenv/versions/3.10.6/envs/llamaindex_kdbai/lib/python3.10/site-packages (from torch>=1.11.0->sentence-transformers>=2.6.1->llama-index-embeddings-huggingface) (12.1.3.1)\n",
      "Requirement already satisfied: nvidia-nvtx-cu12==12.1.105 in /home/tempest/.pyenv/versions/3.10.6/envs/llamaindex_kdbai/lib/python3.10/site-packages (from torch>=1.11.0->sentence-transformers>=2.6.1->llama-index-embeddings-huggingface) (12.1.105)\n",
      "Requirement already satisfied: nvidia-nccl-cu12==2.19.3 in /home/tempest/.pyenv/versions/3.10.6/envs/llamaindex_kdbai/lib/python3.10/site-packages (from torch>=1.11.0->sentence-transformers>=2.6.1->llama-index-embeddings-huggingface) (2.19.3)\n",
      "Requirement already satisfied: nvidia-curand-cu12==10.3.2.106 in /home/tempest/.pyenv/versions/3.10.6/envs/llamaindex_kdbai/lib/python3.10/site-packages (from torch>=1.11.0->sentence-transformers>=2.6.1->llama-index-embeddings-huggingface) (10.3.2.106)\n",
      "Requirement already satisfied: nvidia-cufft-cu12==11.0.2.54 in /home/tempest/.pyenv/versions/3.10.6/envs/llamaindex_kdbai/lib/python3.10/site-packages (from torch>=1.11.0->sentence-transformers>=2.6.1->llama-index-embeddings-huggingface) (11.0.2.54)\n",
      "Requirement already satisfied: nvidia-cusparse-cu12==12.1.0.106 in /home/tempest/.pyenv/versions/3.10.6/envs/llamaindex_kdbai/lib/python3.10/site-packages (from torch>=1.11.0->sentence-transformers>=2.6.1->llama-index-embeddings-huggingface) (12.1.0.106)\n",
      "Requirement already satisfied: sympy in /home/tempest/.pyenv/versions/3.10.6/envs/llamaindex_kdbai/lib/python3.10/site-packages (from torch>=1.11.0->sentence-transformers>=2.6.1->llama-index-embeddings-huggingface) (1.13.1)\n",
      "Requirement already satisfied: nvidia-cuda-nvrtc-cu12==12.1.105 in /home/tempest/.pyenv/versions/3.10.6/envs/llamaindex_kdbai/lib/python3.10/site-packages (from torch>=1.11.0->sentence-transformers>=2.6.1->llama-index-embeddings-huggingface) (12.1.105)\n",
      "Requirement already satisfied: jinja2 in /home/tempest/.pyenv/versions/3.10.6/envs/llamaindex_kdbai/lib/python3.10/site-packages (from torch>=1.11.0->sentence-transformers>=2.6.1->llama-index-embeddings-huggingface) (3.1.4)\n",
      "Requirement already satisfied: triton==2.2.0 in /home/tempest/.pyenv/versions/3.10.6/envs/llamaindex_kdbai/lib/python3.10/site-packages (from torch>=1.11.0->sentence-transformers>=2.6.1->llama-index-embeddings-huggingface) (2.2.0)\n",
      "Requirement already satisfied: nvidia-nvjitlink-cu12 in /home/tempest/.pyenv/versions/3.10.6/envs/llamaindex_kdbai/lib/python3.10/site-packages (from nvidia-cusolver-cu12==11.4.5.107->torch>=1.11.0->sentence-transformers>=2.6.1->llama-index-embeddings-huggingface) (12.5.82)\n",
      "Requirement already satisfied: safetensors>=0.4.1 in /home/tempest/.pyenv/versions/3.10.6/envs/llamaindex_kdbai/lib/python3.10/site-packages (from transformers<5.0.0,>=4.34.0->sentence-transformers>=2.6.1->llama-index-embeddings-huggingface) (0.4.3)\n",
      "Requirement already satisfied: tokenizers<0.20,>=0.19 in /home/tempest/.pyenv/versions/3.10.6/envs/llamaindex_kdbai/lib/python3.10/site-packages (from transformers<5.0.0,>=4.34.0->sentence-transformers>=2.6.1->llama-index-embeddings-huggingface) (0.19.1)\n",
      "Requirement already satisfied: mypy-extensions>=0.3.0 in /home/tempest/.pyenv/versions/3.10.6/envs/llamaindex_kdbai/lib/python3.10/site-packages (from typing-inspect>=0.8.0->llama-index-core==0.10.57->llama-index) (1.0.0)\n",
      "Requirement already satisfied: marshmallow<4.0.0,>=3.18.0 in /home/tempest/.pyenv/versions/3.10.6/envs/llamaindex_kdbai/lib/python3.10/site-packages (from dataclasses-json->llama-index-core==0.10.57->llama-index) (3.21.3)\n",
      "Requirement already satisfied: threadpoolctl>=3.1.0 in /home/tempest/.pyenv/versions/3.10.6/envs/llamaindex_kdbai/lib/python3.10/site-packages (from scikit-learn->sentence-transformers>=2.6.1->llama-index-embeddings-huggingface) (3.5.0)\n",
      "Requirement already satisfied: exceptiongroup>=1.0.2 in /home/tempest/.pyenv/versions/3.10.6/envs/llamaindex_kdbai/lib/python3.10/site-packages (from anyio->httpx->llama-index-core==0.10.57->llama-index) (1.2.2)\n",
      "Requirement already satisfied: pydantic-core==2.20.1 in /home/tempest/.pyenv/versions/3.10.6/envs/llamaindex_kdbai/lib/python3.10/site-packages (from pydantic>=1.10->llama-cloud>=0.0.9->llama-index-indices-managed-llama-cloud>=0.2.0->llama-index) (2.20.1)\n",
      "Requirement already satisfied: annotated-types>=0.4.0 in /home/tempest/.pyenv/versions/3.10.6/envs/llamaindex_kdbai/lib/python3.10/site-packages (from pydantic>=1.10->llama-cloud>=0.0.9->llama-index-indices-managed-llama-cloud>=0.2.0->llama-index) (0.7.0)\n",
      "Requirement already satisfied: six>=1.5 in /home/tempest/.pyenv/versions/3.10.6/envs/llamaindex_kdbai/lib/python3.10/site-packages (from python-dateutil>=2.8.2->pandas->llama-index-core==0.10.57->llama-index) (1.16.0)\n",
      "Requirement already satisfied: MarkupSafe>=2.0 in /home/tempest/.pyenv/versions/3.10.6/envs/llamaindex_kdbai/lib/python3.10/site-packages (from jinja2->torch>=1.11.0->sentence-transformers>=2.6.1->llama-index-embeddings-huggingface) (2.1.5)\n",
      "Requirement already satisfied: mpmath<1.4,>=1.1.0 in /home/tempest/.pyenv/versions/3.10.6/envs/llamaindex_kdbai/lib/python3.10/site-packages (from sympy->torch>=1.11.0->sentence-transformers>=2.6.1->llama-index-embeddings-huggingface) (1.3.0)\n",
      "\n",
      "\u001b[1m[\u001b[0m\u001b[34;49mnotice\u001b[0m\u001b[1;39;49m]\u001b[0m\u001b[39;49m A new release of pip available: \u001b[0m\u001b[31;49m22.2.1\u001b[0m\u001b[39;49m -> \u001b[0m\u001b[32;49m24.1.2\u001b[0m\n",
      "\u001b[1m[\u001b[0m\u001b[34;49mnotice\u001b[0m\u001b[1;39;49m]\u001b[0m\u001b[39;49m To update, run: \u001b[0m\u001b[32;49mpython3.10 -m pip install --upgrade pip\u001b[0m\n",
      "Requirement already satisfied: kdbai_client in /home/tempest/.pyenv/versions/3.10.6/envs/llamaindex_kdbai/lib/python3.10/site-packages (1.1.0)\n",
      "Requirement already satisfied: pandas>=1.5.0 in /home/tempest/.pyenv/versions/3.10.6/envs/llamaindex_kdbai/lib/python3.10/site-packages (from kdbai_client) (2.1.4)\n",
      "Requirement already satisfied: pykx<3.0.0,>=2.1.1 in /home/tempest/.pyenv/versions/3.10.6/envs/llamaindex_kdbai/lib/python3.10/site-packages (from kdbai_client) (2.5.2)\n",
      "Requirement already satisfied: pytz>=2020.1 in /home/tempest/.pyenv/versions/3.10.6/envs/llamaindex_kdbai/lib/python3.10/site-packages (from pandas>=1.5.0->kdbai_client) (2024.1)\n",
      "Requirement already satisfied: python-dateutil>=2.8.2 in /home/tempest/.pyenv/versions/3.10.6/envs/llamaindex_kdbai/lib/python3.10/site-packages (from pandas>=1.5.0->kdbai_client) (2.9.0.post0)\n",
      "Requirement already satisfied: numpy<2,>=1.22.4 in /home/tempest/.pyenv/versions/3.10.6/envs/llamaindex_kdbai/lib/python3.10/site-packages (from pandas>=1.5.0->kdbai_client) (1.26.4)\n",
      "Requirement already satisfied: tzdata>=2022.1 in /home/tempest/.pyenv/versions/3.10.6/envs/llamaindex_kdbai/lib/python3.10/site-packages (from pandas>=1.5.0->kdbai_client) (2024.1)\n",
      "Requirement already satisfied: toml~=0.10.2 in /home/tempest/.pyenv/versions/3.10.6/envs/llamaindex_kdbai/lib/python3.10/site-packages (from pykx<3.0.0,>=2.1.1->kdbai_client) (0.10.2)\n",
      "Requirement already satisfied: six>=1.5 in /home/tempest/.pyenv/versions/3.10.6/envs/llamaindex_kdbai/lib/python3.10/site-packages (from python-dateutil>=2.8.2->pandas>=1.5.0->kdbai_client) (1.16.0)\n",
      "\n",
      "\u001b[1m[\u001b[0m\u001b[34;49mnotice\u001b[0m\u001b[1;39;49m]\u001b[0m\u001b[39;49m A new release of pip available: \u001b[0m\u001b[31;49m22.2.1\u001b[0m\u001b[39;49m -> \u001b[0m\u001b[32;49m24.1.2\u001b[0m\n",
      "\u001b[1m[\u001b[0m\u001b[34;49mnotice\u001b[0m\u001b[1;39;49m]\u001b[0m\u001b[39;49m To update, run: \u001b[0m\u001b[32;49mpython3.10 -m pip install --upgrade pip\u001b[0m\n"
     ]
    }
   ],
   "source": [
    "# !pip install llama-index llama-index-embeddings-huggingface llama-index-llms-openai llama-index-readers-file llama-index-vector-stores-kdbai\n",
    "# !pip install kdbai_client sentence-transformers"
   ]
  },
  {
   "cell_type": "markdown",
   "id": "cc5fcc7c-d2af-48d8-a351-915ce9674ed8",
   "metadata": {},
   "source": [
    "**Helper Library - To allow nested loop events**"
   ]
  },
  {
   "cell_type": "code",
   "execution_count": 2,
   "id": "7aa17679-f501-4316-8940-f5811f907663",
   "metadata": {},
   "outputs": [],
   "source": [
    "import nest_asyncio\n",
    "\n",
    "nest_asyncio.apply()"
   ]
  },
  {
   "cell_type": "markdown",
   "id": "2780cbaf-a716-4dad-851b-de74e2d982bf",
   "metadata": {},
   "source": [
    "## Downloading data"
   ]
  },
  {
   "cell_type": "markdown",
   "id": "9d8ae84a-09b5-401c-92f5-0283033cd409",
   "metadata": {},
   "source": [
    "**Libraries**"
   ]
  },
  {
   "cell_type": "code",
   "execution_count": 3,
   "id": "a79a17d8-965c-48d0-ac41-bb2e4a109b31",
   "metadata": {},
   "outputs": [],
   "source": [
    "import os\n",
    "import urllib.request"
   ]
  },
  {
   "cell_type": "markdown",
   "id": "700eb791-4299-4424-ba34-9c64323cd6a7",
   "metadata": {},
   "source": [
    "**Data directories and paths**"
   ]
  },
  {
   "cell_type": "code",
   "execution_count": 4,
   "id": "87c2e167-6a24-41f4-8f3b-80da3b004e07",
   "metadata": {},
   "outputs": [],
   "source": [
    "# Root path\n",
    "root_path = os.path.abspath(os.getcwd())\n",
    "\n",
    "# Data directory and path\n",
    "data_dir = \"data\"\n",
    "data_path = os.path.join(root_path, data_dir)\n",
    "if not os.path.exists(data_path):\n",
    "    os.mkdir(data_path)"
   ]
  },
  {
   "cell_type": "markdown",
   "id": "6117b372-5b6f-4fa4-a53f-49e9d59281c4",
   "metadata": {},
   "source": [
    "**Downloading text**"
   ]
  },
  {
   "cell_type": "code",
   "execution_count": 5,
   "id": "b2aa8ec7-32ef-4847-8183-3bee9a69ed03",
   "metadata": {},
   "outputs": [],
   "source": [
    "text_url = \"https://raw.githubusercontent.com/KxSystems/kdbai-samples/main/retrieval_augmented_generation/data/state_of_the_union.txt\"\n",
    "with urllib.request.urlopen(text_url) as response:\n",
    "    text_content = response.read().decode(\"utf-8\")\n",
    "\n",
    "text_file_name = text_url.split('/')[-1]\n",
    "text_path = os.path.join(data_path, text_file_name)\n",
    "if not os.path.exists(text_path):\n",
    "    with open(text_path, 'w') as text_file:\n",
    "        text_file.write(text_content)\n",
    "\n",
    "metadata = {\n",
    "    f\"{data_dir}/{text_file_name}\": {\n",
    "        \"title\": text_file_name.split('.')[0],\n",
    "        \"file_path\": text_path\n",
    "    }\n",
    "}"
   ]
  },
  {
   "cell_type": "markdown",
   "id": "9b2b7088-9220-4246-a840-ed4ba518a9e9",
   "metadata": {},
   "source": [
    "**Show text data**"
   ]
  },
  {
   "cell_type": "code",
   "execution_count": 6,
   "id": "5bbb4b90-5029-42c5-82a0-e8ce20b8fa61",
   "metadata": {},
   "outputs": [],
   "source": [
    "def show_text(text_path):\n",
    "    if os.path.isfile(text_path):\n",
    "        with open(text_path, 'r') as text_file:\n",
    "            contents = text_file.read()\n",
    "        print(contents[:512])\n",
    "        print(\"=\"*80)"
   ]
  },
  {
   "cell_type": "code",
   "execution_count": 7,
   "id": "59cd13c8-8b49-4f07-8915-175c76bb80bf",
   "metadata": {},
   "outputs": [
    {
     "name": "stdout",
     "output_type": "stream",
     "text": [
      "Madam Speaker, Madam Vice President, our First Lady and Second Gentleman. Members of Congress and the Cabinet. Justices of the Supreme Court. My fellow Americans.  \n",
      "\n",
      "Last year COVID-19 kept us apart. This year we are finally together again. \n",
      "\n",
      "Tonight, we meet as Democrats Republicans and Independents. But most importantly as Americans. \n",
      "\n",
      "With a duty to one another to the American people to the Constitution. \n",
      "\n",
      "And with an unwavering resolve that freedom will always triumph over tyranny. \n",
      "\n",
      "Six days ago, Russi\n",
      "================================================================================\n"
     ]
    }
   ],
   "source": [
    "show_text(text_path)"
   ]
  },
  {
   "cell_type": "markdown",
   "id": "8782d349-0ecc-4692-9b16-0ee22afc2d3c",
   "metadata": {},
   "source": [
    "## KDB.ai Vector Database - session and tables"
   ]
  },
  {
   "cell_type": "markdown",
   "id": "4dcc3ce4-1580-488b-9bca-61076013dbaa",
   "metadata": {},
   "source": [
    "**Libraries**"
   ]
  },
  {
   "cell_type": "code",
   "execution_count": 8,
   "id": "4338610e-6b47-4589-ba5e-151ab974631f",
   "metadata": {},
   "outputs": [],
   "source": [
    "import kdbai_client as kdbai"
   ]
  },
  {
   "cell_type": "markdown",
   "id": "4a5bb078-1e01-49df-8971-718d7e0bc76c",
   "metadata": {},
   "source": [
    "**KDB.ai session**"
   ]
  },
  {
   "cell_type": "code",
   "execution_count": 9,
   "id": "2a3850b8-62c7-4e60-afc0-2762bd24b1f6",
   "metadata": {},
   "outputs": [],
   "source": [
    "KDBAI_ENDPOINT = \"http://localhost:8085\"\n",
    "session = kdbai.Session(endpoint=KDBAI_ENDPOINT)"
   ]
  },
  {
   "cell_type": "markdown",
   "id": "1785cada-7d7e-4f88-a7a7-60287b0b2110",
   "metadata": {},
   "source": [
    "**KDB.ai table**"
   ]
  },
  {
   "cell_type": "code",
   "execution_count": 10,
   "id": "5ac72f6f-1226-484a-9c04-6bc89002973f",
   "metadata": {},
   "outputs": [],
   "source": [
    "# Table - name & schema\n",
    "table_name = \"sqqe_docs\"\n",
    "table_schema = {\n",
    "    \"columns\": [\n",
    "        dict(name=\"document_id\", pytype=\"bytes\"),\n",
    "        dict(name=\"text\", pytype=\"bytes\"),\n",
    "        dict(\n",
    "            name=\"embedding\",\n",
    "            vectorIndex=dict(type=\"flat\", metric=\"L2\", dims=768),\n",
    "        ),\n",
    "        dict(name=\"title\", pytype=\"bytes\"),\n",
    "        dict(name=\"file_path\", pytype=\"bytes\")\n",
    "    ]\n",
    "}"
   ]
  },
  {
   "cell_type": "code",
   "execution_count": 11,
   "id": "7c2852e9-f668-46b2-8952-89c1d0c95892",
   "metadata": {},
   "outputs": [],
   "source": [
    "# Drop table if exists\n",
    "if table_name in session.list():\n",
    "    session.table(table_name).drop()"
   ]
  },
  {
   "cell_type": "code",
   "execution_count": 12,
   "id": "8ae4b5c0-6cac-4189-9305-55c3464a6e29",
   "metadata": {},
   "outputs": [],
   "source": [
    "# Create table\n",
    "table = session.create_table(table_name, table_schema)"
   ]
  },
  {
   "cell_type": "code",
   "execution_count": 13,
   "id": "74da29ed-9186-48bd-b7d5-ae1eb253e5d0",
   "metadata": {
    "scrolled": true
   },
   "outputs": [
    {
     "data": {
      "text/plain": [
       "{'columns': [{'name': 'document_id', 'qtype': 'string', 'pytype': 'bytes'},\n",
       "  {'name': 'text', 'qtype': 'string', 'pytype': 'bytes'},\n",
       "  {'name': 'embedding',\n",
       "   'vectorIndex': {'type': 'flat', 'metric': 'L2', 'dims': 768},\n",
       "   'qtype': 'reals',\n",
       "   'pytype': 'float32'},\n",
       "  {'name': 'title', 'qtype': 'string', 'pytype': 'bytes'},\n",
       "  {'name': 'file_path', 'qtype': 'string', 'pytype': 'bytes'}]}"
      ]
     },
     "execution_count": 13,
     "metadata": {},
     "output_type": "execute_result"
    }
   ],
   "source": [
    "# Show table schema\n",
    "table.schema()"
   ]
  },
  {
   "cell_type": "markdown",
   "id": "46d1b3ef-44d5-4d89-96dd-2f9996a0a7e8",
   "metadata": {},
   "source": [
    "## Loading data"
   ]
  },
  {
   "cell_type": "code",
   "execution_count": 14,
   "id": "7c80df4f-d690-4f0a-85d3-e36622072b6e",
   "metadata": {},
   "outputs": [],
   "source": [
    "from llama_index.core import SimpleDirectoryReader"
   ]
  },
  {
   "cell_type": "code",
   "execution_count": 15,
   "id": "54a1db63-5405-4298-9101-3a3952ef816d",
   "metadata": {},
   "outputs": [],
   "source": [
    "# Helper function - for getting metadata\n",
    "def get_metadata(file_path):\n",
    "    return metadata[file_path]"
   ]
  },
  {
   "cell_type": "code",
   "execution_count": 16,
   "id": "c56d99f8-12cf-45a7-9f8c-52d47d5fe939",
   "metadata": {},
   "outputs": [
    {
     "name": "stdout",
     "output_type": "stream",
     "text": [
      "CPU times: user 5.92 ms, sys: 8.51 ms, total: 14.4 ms\n",
      "Wall time: 14.1 ms\n"
     ]
    },
    {
     "data": {
      "text/plain": [
       "1"
      ]
     },
     "execution_count": 16,
     "metadata": {},
     "output_type": "execute_result"
    }
   ],
   "source": [
    "%%time\n",
    "\n",
    "local_files = [fpath for fpath in metadata]\n",
    "documents = SimpleDirectoryReader(input_files=local_files, file_metadata=get_metadata)\n",
    "\n",
    "docs = documents.load_data()\n",
    "len(docs)"
   ]
  },
  {
   "cell_type": "markdown",
   "id": "a69f0061-1ce7-4d57-84e5-49cd2acf2652",
   "metadata": {},
   "source": [
    "## Creating Vector Store Index for data"
   ]
  },
  {
   "cell_type": "markdown",
   "id": "0bf4617a-efcb-47e0-a3c7-e148c87a52bf",
   "metadata": {},
   "source": [
    "**OpenAI API Key**"
   ]
  },
  {
   "cell_type": "code",
   "execution_count": 17,
   "id": "c5ef3a99-e891-4026-b04b-c1a774d051f4",
   "metadata": {},
   "outputs": [],
   "source": [
    "from getpass import getpass"
   ]
  },
  {
   "cell_type": "code",
   "execution_count": 18,
   "id": "c9186de3-03b5-45cc-8c7c-edc9db43a330",
   "metadata": {},
   "outputs": [
    {
     "name": "stdin",
     "output_type": "stream",
     "text": [
      "OpenAI API key:  ········\n"
     ]
    }
   ],
   "source": [
    "os.environ[\"OPENAI_API_KEY\"] = getpass(\"OpenAI API key: \")"
   ]
  },
  {
   "cell_type": "markdown",
   "id": "24942ff8-59dc-4f2c-8ad5-4163f65ab2f7",
   "metadata": {},
   "source": [
    "**Text embeddings model**"
   ]
  },
  {
   "cell_type": "code",
   "execution_count": 19,
   "id": "d063169d-1c36-404f-a79d-4ab29e1d266f",
   "metadata": {},
   "outputs": [],
   "source": [
    "from llama_index.embeddings.huggingface import HuggingFaceEmbedding"
   ]
  },
  {
   "cell_type": "code",
   "execution_count": 20,
   "id": "fd01617e-fe4b-46c0-9127-a60dcca54ba2",
   "metadata": {},
   "outputs": [
    {
     "data": {
      "application/vnd.jupyter.widget-view+json": {
       "model_id": "d7eba8117ad54f158d15d7693c660a27",
       "version_major": 2,
       "version_minor": 0
      },
      "text/plain": [
       "modules.json:   0%|          | 0.00/349 [00:00<?, ?B/s]"
      ]
     },
     "metadata": {},
     "output_type": "display_data"
    },
    {
     "data": {
      "application/vnd.jupyter.widget-view+json": {
       "model_id": "cf1021655210465380eafe482ec27a51",
       "version_major": 2,
       "version_minor": 0
      },
      "text/plain": [
       "config_sentence_transformers.json:   0%|          | 0.00/116 [00:00<?, ?B/s]"
      ]
     },
     "metadata": {},
     "output_type": "display_data"
    },
    {
     "data": {
      "application/vnd.jupyter.widget-view+json": {
       "model_id": "52a39cf857524c2984883f15b36cfe31",
       "version_major": 2,
       "version_minor": 0
      },
      "text/plain": [
       "README.md:   0%|          | 0.00/10.6k [00:00<?, ?B/s]"
      ]
     },
     "metadata": {},
     "output_type": "display_data"
    },
    {
     "data": {
      "application/vnd.jupyter.widget-view+json": {
       "model_id": "3d94519fe6884224819b6c59e6d9286d",
       "version_major": 2,
       "version_minor": 0
      },
      "text/plain": [
       "sentence_bert_config.json:   0%|          | 0.00/53.0 [00:00<?, ?B/s]"
      ]
     },
     "metadata": {},
     "output_type": "display_data"
    },
    {
     "data": {
      "application/vnd.jupyter.widget-view+json": {
       "model_id": "9ffbd955ac7e4af3b96d0cc7241ee312",
       "version_major": 2,
       "version_minor": 0
      },
      "text/plain": [
       "config.json:   0%|          | 0.00/571 [00:00<?, ?B/s]"
      ]
     },
     "metadata": {},
     "output_type": "display_data"
    },
    {
     "data": {
      "application/vnd.jupyter.widget-view+json": {
       "model_id": "1fae43a335a042d5b4910c22b2dcd835",
       "version_major": 2,
       "version_minor": 0
      },
      "text/plain": [
       "model.safetensors:   0%|          | 0.00/438M [00:00<?, ?B/s]"
      ]
     },
     "metadata": {},
     "output_type": "display_data"
    },
    {
     "data": {
      "application/vnd.jupyter.widget-view+json": {
       "model_id": "3cac27c537c54746ae317967cae82849",
       "version_major": 2,
       "version_minor": 0
      },
      "text/plain": [
       "tokenizer_config.json:   0%|          | 0.00/363 [00:00<?, ?B/s]"
      ]
     },
     "metadata": {},
     "output_type": "display_data"
    },
    {
     "data": {
      "application/vnd.jupyter.widget-view+json": {
       "model_id": "82f51a8eab5a4d1ba72fd50301afe3da",
       "version_major": 2,
       "version_minor": 0
      },
      "text/plain": [
       "vocab.txt:   0%|          | 0.00/232k [00:00<?, ?B/s]"
      ]
     },
     "metadata": {},
     "output_type": "display_data"
    },
    {
     "data": {
      "application/vnd.jupyter.widget-view+json": {
       "model_id": "262c80746b6b414c96e55f73cd7539fc",
       "version_major": 2,
       "version_minor": 0
      },
      "text/plain": [
       "tokenizer.json:   0%|          | 0.00/466k [00:00<?, ?B/s]"
      ]
     },
     "metadata": {},
     "output_type": "display_data"
    },
    {
     "data": {
      "application/vnd.jupyter.widget-view+json": {
       "model_id": "39683444f3a149f3933578f3d8c6ff48",
       "version_major": 2,
       "version_minor": 0
      },
      "text/plain": [
       "special_tokens_map.json:   0%|          | 0.00/239 [00:00<?, ?B/s]"
      ]
     },
     "metadata": {},
     "output_type": "display_data"
    },
    {
     "data": {
      "application/vnd.jupyter.widget-view+json": {
       "model_id": "6db32d2ec4064b96ba55dedcdfc50b6c",
       "version_major": 2,
       "version_minor": 0
      },
      "text/plain": [
       "1_Pooling/config.json:   0%|          | 0.00/190 [00:00<?, ?B/s]"
      ]
     },
     "metadata": {},
     "output_type": "display_data"
    }
   ],
   "source": [
    "EMBEDDING = \"sentence-transformers/all-mpnet-base-v2\"\n",
    "embeddings_model = HuggingFaceEmbedding(model_name=EMBEDDING)"
   ]
  },
  {
   "cell_type": "markdown",
   "id": "14de2b8c-0381-4676-a8ca-545b31ed748d",
   "metadata": {},
   "source": [
    "**LLM model**"
   ]
  },
  {
   "cell_type": "code",
   "execution_count": 21,
   "id": "89f26d0a-50f8-4727-aa24-7fdd2f798edf",
   "metadata": {},
   "outputs": [],
   "source": [
    "from llama_index.llms.openai import OpenAI"
   ]
  },
  {
   "cell_type": "code",
   "execution_count": 22,
   "id": "44f5f8ea-7e1b-4d83-b2f1-a4fd4ad804e0",
   "metadata": {},
   "outputs": [],
   "source": [
    "LLM = \"gpt-3.5-turbo\"\n",
    "llm_model = OpenAI(temperature=0, model=LLM)"
   ]
  },
  {
   "cell_type": "markdown",
   "id": "35b2019f-14c9-4d57-8113-9b794d0269e6",
   "metadata": {},
   "source": [
    "**Setting callbacks and debug handler**"
   ]
  },
  {
   "cell_type": "code",
   "execution_count": 23,
   "id": "5c34c26e-8eba-4a2a-b834-918b0f412a0a",
   "metadata": {},
   "outputs": [],
   "source": [
    "from llama_index.core.callbacks import LlamaDebugHandler\n",
    "from llama_index.core.callbacks import CallbackManager"
   ]
  },
  {
   "cell_type": "code",
   "execution_count": 24,
   "id": "a646792f-0b1b-4088-83f9-47f1034f7f58",
   "metadata": {},
   "outputs": [],
   "source": [
    "# Using the LlamaDebugHandler to print the trace of the sub questions captured by the SUB_QUESTION callback event type\n",
    "llama_debug = LlamaDebugHandler(print_trace_on_end=True)\n",
    "callback_manager = CallbackManager([llama_debug])"
   ]
  },
  {
   "cell_type": "markdown",
   "id": "43af046c-cbd8-4d92-8369-69a053a84200",
   "metadata": {},
   "source": [
    "**Create vector store, storage context and the index for retrieval, query purposes**"
   ]
  },
  {
   "cell_type": "code",
   "execution_count": 25,
   "id": "ba5a78bd-ec07-4799-80ad-24f976bb53d9",
   "metadata": {},
   "outputs": [],
   "source": [
    "from llama_index.vector_stores.kdbai import KDBAIVectorStore\n",
    "from llama_index.core import StorageContext\n",
    "from llama_index.core import Settings\n",
    "from llama_index.core.indices import VectorStoreIndex\n",
    "from llama_index.core.node_parser import SentenceSplitter"
   ]
  },
  {
   "cell_type": "code",
   "execution_count": 26,
   "id": "247968f8-88f4-4cbf-a62c-a33ef21049ed",
   "metadata": {
    "scrolled": true
   },
   "outputs": [
    {
     "name": "stdout",
     "output_type": "stream",
     "text": [
      "**********\n",
      "Trace: index_construction\n",
      "    |_embedding -> 1.796894 seconds\n",
      "    |_embedding -> 1.806952 seconds\n",
      "**********\n",
      "CPU times: user 2.97 s, sys: 122 ms, total: 3.09 s\n",
      "Wall time: 3.3 s\n"
     ]
    }
   ],
   "source": [
    "%%time\n",
    "\n",
    "# Vector Store\n",
    "text_store = KDBAIVectorStore(table=table)\n",
    "\n",
    "# Storage context\n",
    "storage_context = StorageContext.from_defaults(vector_store=text_store)\n",
    "\n",
    "# Settings\n",
    "Settings.callback_manager = callback_manager\n",
    "Settings.transformations = [SentenceSplitter(chunk_size=500, chunk_overlap=0)]\n",
    "Settings.embed_model = embeddings_model\n",
    "Settings.llm = llm_model\n",
    "\n",
    "# Vector Store Index\n",
    "index = VectorStoreIndex.from_documents(\n",
    "    docs,\n",
    "    use_async=True,\n",
    "    storage_context=storage_context,\n",
    ")"
   ]
  },
  {
   "cell_type": "markdown",
   "id": "dcd5af0a-932e-47e2-b06f-612cc578865b",
   "metadata": {},
   "source": [
    "## Setup sub question query engine"
   ]
  },
  {
   "cell_type": "markdown",
   "id": "3fb2c86a-53c6-463f-ab03-37c04407945e",
   "metadata": {},
   "source": [
    "**Index as Vector Query Engine**"
   ]
  },
  {
   "cell_type": "code",
   "execution_count": 27,
   "id": "66204547-10ed-4e34-81d3-b49fd25a949d",
   "metadata": {},
   "outputs": [],
   "source": [
    "# Vector query engine\n",
    "vector_query_engine = index.as_query_engine()"
   ]
  },
  {
   "cell_type": "markdown",
   "id": "17b37b91-edfe-43c2-b603-2e74d058c90d",
   "metadata": {},
   "source": [
    "**Setting up Sub Question Query Engine**"
   ]
  },
  {
   "cell_type": "code",
   "execution_count": 28,
   "id": "df7779b4-6ea8-48b0-951e-99f9e82b3871",
   "metadata": {},
   "outputs": [],
   "source": [
    "from llama_index.core.tools import QueryEngineTool, ToolMetadata\n",
    "from llama_index.core.query_engine import SubQuestionQueryEngine"
   ]
  },
  {
   "cell_type": "code",
   "execution_count": 29,
   "id": "eb9d7e79-999e-4a17-9089-824e74b7f26e",
   "metadata": {},
   "outputs": [],
   "source": [
    "# setup base query engine as tool\n",
    "query_engine_tools = [\n",
    "    QueryEngineTool(\n",
    "        query_engine=vector_query_engine,\n",
    "        metadata=ToolMetadata(\n",
    "            name=\"state_of_union\",\n",
    "            description=\"State of Union Speech\",\n",
    "        ),\n",
    "    ),\n",
    "]\n",
    "\n",
    "query_engine = SubQuestionQueryEngine.from_defaults(\n",
    "    query_engine_tools=query_engine_tools,\n",
    "    use_async=True,\n",
    ")"
   ]
  },
  {
   "cell_type": "markdown",
   "id": "12137187-cfe5-40ff-a93e-6716b5a571c3",
   "metadata": {},
   "source": [
    "**Querying the Sub Question Query Engine**"
   ]
  },
  {
   "cell_type": "code",
   "execution_count": 30,
   "id": "519608b8-5be3-4e4b-8ca0-e77b9631c09e",
   "metadata": {},
   "outputs": [
    {
     "name": "stdout",
     "output_type": "stream",
     "text": [
      "Generated 3 sub questions.\n",
      "\u001b[1;3;38;2;237;90;200m[state_of_union] Q: What did the president say about Ukraine?\n",
      "\u001b[0m\u001b[1;3;38;2;90;149;237m[state_of_union] Q: What are the four common sense steps mentioned by the president?\n",
      "\u001b[0m\u001b[1;3;38;2;11;159;203m[state_of_union] Q: How did the president plan to fight inflation?\n",
      "\u001b[0m\u001b[1;3;38;2;90;149;237m[state_of_union] A: The four common sense steps mentioned by the president are staying protected with vaccines and treatments, preparing for new variants, ending the shutdown of schools and businesses, and continuing to vaccinate the world.\n",
      "\u001b[0m\u001b[1;3;38;2;11;159;203m[state_of_union] A: The president planned to fight inflation by lowering costs instead of wages, increasing the productive capacity of the economy, making more goods in America, investing in infrastructure and innovation, creating more jobs with good wages, and reducing reliance on foreign supply chains.\n",
      "\u001b[0m\u001b[1;3;38;2;237;90;200m[state_of_union] A: The president expressed support for Ukraine and its people, highlighting their fearlessness, courage, and determination in the face of aggression. He mentioned providing over $1 billion in direct assistance to Ukraine and emphasized that American forces are not engaged in conflict with Russian forces in Ukraine but are prepared to defend NATO Allies if necessary.\n",
      "\u001b[0m**********\n",
      "Trace: query\n",
      "    |_query -> 6.343225 seconds\n",
      "      |_llm -> 1.845925 seconds\n",
      "      |_sub_question -> 2.102361 seconds\n",
      "        |_query -> 2.101808 seconds\n",
      "          |_retrieve -> 0.051399 seconds\n",
      "            |_embedding -> 0.035699 seconds\n",
      "          |_synthesize -> 2.049736 seconds\n",
      "            |_templating -> 2.2e-05 seconds\n",
      "            |_llm -> 2.044346 seconds\n",
      "      |_sub_question -> 1.418428 seconds\n",
      "        |_query -> 1.417982 seconds\n",
      "          |_retrieve -> 0.032406 seconds\n",
      "            |_embedding -> 0.021932 seconds\n",
      "          |_synthesize -> 1.384939 seconds\n",
      "            |_templating -> 2.2e-05 seconds\n",
      "            |_llm -> 1.38022 seconds\n",
      "      |_sub_question -> 1.680963 seconds\n",
      "        |_query -> 1.680497 seconds\n",
      "          |_retrieve -> 0.022885 seconds\n",
      "            |_embedding -> 0.012471 seconds\n",
      "          |_synthesize -> 1.657011 seconds\n",
      "            |_templating -> 2.1e-05 seconds\n",
      "            |_llm -> 1.652268 seconds\n",
      "      |_synthesize -> 2.392215 seconds\n",
      "        |_templating -> 2.1e-05 seconds\n",
      "        |_llm -> 2.389258 seconds\n",
      "**********\n"
     ]
    }
   ],
   "source": [
    "response = query_engine.query(\n",
    "    \"what did the president say about ukraine, what are the four common sense steps and how he planned to fight inflation?\"\n",
    ")"
   ]
  },
  {
   "cell_type": "code",
   "execution_count": 31,
   "id": "e7a50222-9ff0-4ed4-8c93-365a6c042f7e",
   "metadata": {},
   "outputs": [
    {
     "name": "stdout",
     "output_type": "stream",
     "text": [
      "The president expressed support for Ukraine and its people, highlighting their fearlessness, courage, and determination in the face of aggression. The four common sense steps mentioned by the president are staying protected with vaccines and treatments, preparing for new variants, ending the shutdown of schools and businesses, and continuing to vaccinate the world. The president planned to fight inflation by lowering costs instead of wages, increasing the productive capacity of the economy, making more goods in America, investing in infrastructure and innovation, creating more jobs with good wages, and reducing reliance on foreign supply chains.\n"
     ]
    }
   ],
   "source": [
    "print(response)"
   ]
  },
  {
   "cell_type": "markdown",
   "id": "b5867c4f-e601-41b8-9e60-bd6ad9530720",
   "metadata": {},
   "source": [
    "**Iterate through all subquestions captured in SUB_QUESTION event**"
   ]
  },
  {
   "cell_type": "code",
   "execution_count": 32,
   "id": "0053423a-6f0c-47dc-b2bf-11773c08473d",
   "metadata": {},
   "outputs": [],
   "source": [
    "from llama_index.core.callbacks import CBEventType, EventPayload"
   ]
  },
  {
   "cell_type": "code",
   "execution_count": 33,
   "id": "04107827-4f16-4319-9e30-6c6a51737b53",
   "metadata": {},
   "outputs": [
    {
     "name": "stdout",
     "output_type": "stream",
     "text": [
      "Sub Question 0: What did the president say about Ukraine?\n",
      "Answer: The president expressed support for Ukraine and its people, highlighting their fearlessness, courage, and determination in the face of aggression. He mentioned providing over $1 billion in direct assistance to Ukraine and emphasized that American forces are not engaged in conflict with Russian forces in Ukraine but are prepared to defend NATO Allies if necessary.\n",
      "================================================================================\n",
      "Sub Question 1: What are the four common sense steps mentioned by the president?\n",
      "Answer: The four common sense steps mentioned by the president are staying protected with vaccines and treatments, preparing for new variants, ending the shutdown of schools and businesses, and continuing to vaccinate the world.\n",
      "================================================================================\n",
      "Sub Question 2: How did the president plan to fight inflation?\n",
      "Answer: The president planned to fight inflation by lowering costs instead of wages, increasing the productive capacity of the economy, making more goods in America, investing in infrastructure and innovation, creating more jobs with good wages, and reducing reliance on foreign supply chains.\n",
      "================================================================================\n"
     ]
    }
   ],
   "source": [
    "for i, (start_event, end_event) in enumerate(\n",
    "    llama_debug.get_event_pairs(CBEventType.SUB_QUESTION)\n",
    "):\n",
    "    end_event_exception = end_event.payload.get(EventPayload.EXCEPTION)\n",
    "    if end_event_exception is None:\n",
    "        qa_pair = end_event.payload[EventPayload.SUB_QUESTION]\n",
    "        print(\"Sub Question \" + str(i) + \": \" + qa_pair.sub_q.sub_question.strip())\n",
    "        print(\"Answer: \" + qa_pair.answer.strip())\n",
    "        print(\"=\"*80)"
   ]
  },
  {
   "cell_type": "code",
   "execution_count": null,
   "id": "5c4118ee-8632-48af-b389-0e8da13480fc",
   "metadata": {},
   "outputs": [],
   "source": []
  }
 ],
 "metadata": {
  "kernelspec": {
   "display_name": "Python 3 (ipykernel)",
   "language": "python",
   "name": "python3"
  },
  "language_info": {
   "codemirror_mode": {
    "name": "ipython",
    "version": 3
   },
   "file_extension": ".py",
   "mimetype": "text/x-python",
   "name": "python",
   "nbconvert_exporter": "python",
   "pygments_lexer": "ipython3",
   "version": "3.10.6"
  }
 },
 "nbformat": 4,
 "nbformat_minor": 5
}
